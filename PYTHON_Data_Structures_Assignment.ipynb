{
  "nbformat": 4,
  "nbformat_minor": 0,
  "metadata": {
    "colab": {
      "provenance": []
    },
    "kernelspec": {
      "name": "python3",
      "display_name": "Python 3"
    },
    "language_info": {
      "name": "python"
    }
  },
  "cells": [
    {
      "cell_type": "markdown",
      "source": [
        "Q1. How do you comment code in Python? What are the different types of comments?"
      ],
      "metadata": {
        "id": "RgpQo_XbXHoI"
      }
    },
    {
      "cell_type": "markdown",
      "source": [
        "Ans: We can comment code in python by two methods:\n",
        "\n",
        "1) Single-line comment -  This method requires us to write comments after putting the hash (# comment)\n",
        "\n",
        "2) Multi-line comments - This method requires us to write comments within triple quotes (\"\"\" multi-line comments \"\"\") ."
      ],
      "metadata": {
        "id": "UiCjFMtgXQuA"
      }
    },
    {
      "cell_type": "markdown",
      "source": [
        "Q2. What are variables in Python? How do you declare and assign values to variables?"
      ],
      "metadata": {
        "id": "_nOoVg89YR53"
      }
    },
    {
      "cell_type": "markdown",
      "source": [
        "Ans: In python, every thing is an object and we can assign an object to a varibale by any name (avoiding first of variable name with a number). Variable always refers to the assigned object in the memory location. For example, gm = 30. 30 is an int object and gm variable referfs to data in the allocated memory."
      ],
      "metadata": {
        "id": "_5mIa77dYX6v"
      }
    },
    {
      "cell_type": "markdown",
      "source": [
        "Q3. How do you convert one data type to another in Python?"
      ],
      "metadata": {
        "id": "hkm1ug5hZ-wK"
      }
    },
    {
      "cell_type": "markdown",
      "source": [
        "Ans: We can do this by typecasting. Exaple is cited below in the code lines:"
      ],
      "metadata": {
        "id": "Qg6r9i3DaMPF"
      }
    },
    {
      "cell_type": "code",
      "source": [
        "a = 3\n",
        "print(a)\n",
        "type(a)"
      ],
      "metadata": {
        "colab": {
          "base_uri": "https://localhost:8080/"
        },
        "id": "W-TK3-q-aBjY",
        "outputId": "6ee1e251-7a4f-40e5-b88d-e60a29b97dea"
      },
      "execution_count": 2,
      "outputs": [
        {
          "output_type": "stream",
          "name": "stdout",
          "text": [
            "3\n"
          ]
        },
        {
          "output_type": "execute_result",
          "data": {
            "text/plain": [
              "int"
            ]
          },
          "metadata": {},
          "execution_count": 2
        }
      ]
    },
    {
      "cell_type": "code",
      "source": [
        "a = float(a)\n",
        "print(a)\n",
        "type(a)"
      ],
      "metadata": {
        "colab": {
          "base_uri": "https://localhost:8080/"
        },
        "id": "SNVzkiNEaVFW",
        "outputId": "f920f1db-c65a-44d4-c44b-827c6d6b3184"
      },
      "execution_count": 3,
      "outputs": [
        {
          "output_type": "stream",
          "name": "stdout",
          "text": [
            "3.0\n"
          ]
        },
        {
          "output_type": "execute_result",
          "data": {
            "text/plain": [
              "float"
            ]
          },
          "metadata": {},
          "execution_count": 3
        }
      ]
    },
    {
      "cell_type": "markdown",
      "source": [
        "Q4. How do you write and execute a Python script from the command line?"
      ],
      "metadata": {
        "id": "xTJVExU9Z-pK"
      }
    },
    {
      "cell_type": "markdown",
      "source": [
        "Ans: We can use WSL CLI to create a new file e.g. assignment.py by typing nano assignment.py and write some code therein. Later. we can check the file content with cat command followed by python file name. Now, we can simply run the script by typing python3 followed by filename. Example is pasted from the real time run script in WSL CLI.\n",
        "\n",
        "![image.png](data:image/png;base64,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)"
      ],
      "metadata": {
        "id": "RR88YWSfiCWz"
      }
    },
    {
      "cell_type": "markdown",
      "source": [
        "Q5. Given a list my_list = [1, 2, 3, 4, 5], write the code to slice the list and obtain the sub-list [2, 3]."
      ],
      "metadata": {
        "id": "17YdZnqui4RJ"
      }
    },
    {
      "cell_type": "markdown",
      "source": [
        "Ans:"
      ],
      "metadata": {
        "id": "P0I1GlM6jAkZ"
      }
    },
    {
      "cell_type": "code",
      "source": [
        "my_list = [1, 2, 3, 4, 5]"
      ],
      "metadata": {
        "id": "WyDwsCDmi9-h"
      },
      "execution_count": 4,
      "outputs": []
    },
    {
      "cell_type": "code",
      "source": [
        "my_list[1:3]"
      ],
      "metadata": {
        "colab": {
          "base_uri": "https://localhost:8080/"
        },
        "id": "Am5jvlLHi97p",
        "outputId": "c3b35f25-d1a7-47e5-e8d0-3e345d8a276d"
      },
      "execution_count": 5,
      "outputs": [
        {
          "output_type": "execute_result",
          "data": {
            "text/plain": [
              "[2, 3]"
            ]
          },
          "metadata": {},
          "execution_count": 5
        }
      ]
    },
    {
      "cell_type": "markdown",
      "source": [
        "Q6. What is a complex number in mathematics, and how is it represented in Python?"
      ],
      "metadata": {
        "id": "J_0WzvVZi4OQ"
      }
    },
    {
      "cell_type": "markdown",
      "source": [
        "Ans: Complex number in mathematics is called to those numbers which has both real and imaginery parts (√-1) e.g. 3 + 3i\n",
        "In python, it can be written oas or assigned to a variable as (3 + 3j)\n",
        "\n",
        "![image.png](data:image/png;base64,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)"
      ],
      "metadata": {
        "id": "TEXPUhLmi4Ld"
      }
    },
    {
      "cell_type": "markdown",
      "source": [
        "Q7. What is the correct way to declare a variable named age and assign the value 25 to it?"
      ],
      "metadata": {
        "id": "ZC5zAO8xi4Io"
      }
    },
    {
      "cell_type": "markdown",
      "source": [
        "Ans: "
      ],
      "metadata": {
        "id": "a35x-FHKi4Fw"
      }
    },
    {
      "cell_type": "code",
      "source": [
        "age = 25"
      ],
      "metadata": {
        "id": "7KsG_IdGk9UF"
      },
      "execution_count": 6,
      "outputs": []
    },
    {
      "cell_type": "code",
      "source": [
        "age"
      ],
      "metadata": {
        "colab": {
          "base_uri": "https://localhost:8080/"
        },
        "id": "Nd0weLoQk9Jj",
        "outputId": "c30c69db-e9dc-4ed9-cfa0-c6281f43f2c2"
      },
      "execution_count": 7,
      "outputs": [
        {
          "output_type": "execute_result",
          "data": {
            "text/plain": [
              "25"
            ]
          },
          "metadata": {},
          "execution_count": 7
        }
      ]
    },
    {
      "cell_type": "markdown",
      "source": [
        "Q8. Declare a variable named price and assign the value 9.99 to it. What data type does this variable\n",
        "belong to?"
      ],
      "metadata": {
        "id": "6cvZYMCdi4C4"
      }
    },
    {
      "cell_type": "markdown",
      "source": [
        "Ans:"
      ],
      "metadata": {
        "id": "-KQlJMJ0ldV5"
      }
    },
    {
      "cell_type": "code",
      "source": [
        "price = 9.99\n",
        "type(price)"
      ],
      "metadata": {
        "colab": {
          "base_uri": "https://localhost:8080/"
        },
        "id": "6Xunb-tUlBX_",
        "outputId": "32ab5902-b7ee-4313-8557-7e873e25ecdc"
      },
      "execution_count": 8,
      "outputs": [
        {
          "output_type": "execute_result",
          "data": {
            "text/plain": [
              "float"
            ]
          },
          "metadata": {},
          "execution_count": 8
        }
      ]
    },
    {
      "cell_type": "markdown",
      "source": [
        "Q9. Create a variable named name and assign your full name to it as a string. How would you print the\n",
        "value of this variable?"
      ],
      "metadata": {
        "id": "_7BDJbRMi4AQ"
      }
    },
    {
      "cell_type": "markdown",
      "source": [
        "Ans:"
      ],
      "metadata": {
        "id": "nHdE4tGqle4a"
      }
    },
    {
      "cell_type": "code",
      "source": [
        "name = \"Mrityunjay Pathak\"\n",
        "print(name)"
      ],
      "metadata": {
        "colab": {
          "base_uri": "https://localhost:8080/"
        },
        "id": "lBbFQDfclPrH",
        "outputId": "e6385b9d-28c0-4299-a23c-cfd4d7495b15"
      },
      "execution_count": 10,
      "outputs": [
        {
          "output_type": "stream",
          "name": "stdout",
          "text": [
            "Mrityunjay Pathak\n"
          ]
        }
      ]
    },
    {
      "cell_type": "markdown",
      "source": [
        "Q10. Given the string \"Hello, World!\", extract the substring \"World\"."
      ],
      "metadata": {
        "id": "kyGZlw4ki39Y"
      }
    },
    {
      "cell_type": "markdown",
      "source": [
        "Ans:"
      ],
      "metadata": {
        "id": "LgCvHYhqi36g"
      }
    },
    {
      "cell_type": "code",
      "source": [
        "s = \"Hello, World!\"\n",
        "len(s)"
      ],
      "metadata": {
        "colab": {
          "base_uri": "https://localhost:8080/"
        },
        "id": "BdD97FJ3YWw3",
        "outputId": "2a0fedeb-f59f-45a8-d835-aa92a63b8ab2"
      },
      "execution_count": 11,
      "outputs": [
        {
          "output_type": "execute_result",
          "data": {
            "text/plain": [
              "13"
            ]
          },
          "metadata": {},
          "execution_count": 11
        }
      ]
    },
    {
      "cell_type": "code",
      "source": [
        "s[7:12]"
      ],
      "metadata": {
        "colab": {
          "base_uri": "https://localhost:8080/",
          "height": 36
        },
        "id": "EaOiPoh5l2Z8",
        "outputId": "d534e39f-8255-4971-a296-ebe1ce056250"
      },
      "execution_count": 18,
      "outputs": [
        {
          "output_type": "execute_result",
          "data": {
            "text/plain": [
              "'World'"
            ],
            "application/vnd.google.colaboratory.intrinsic+json": {
              "type": "string"
            }
          },
          "metadata": {},
          "execution_count": 18
        }
      ]
    },
    {
      "cell_type": "code",
      "source": [],
      "metadata": {
        "id": "y4BPg923m3o1"
      },
      "execution_count": null,
      "outputs": []
    }
  ]
}
