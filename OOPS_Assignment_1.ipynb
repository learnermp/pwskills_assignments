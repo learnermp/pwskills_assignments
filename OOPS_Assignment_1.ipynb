{
  "nbformat": 4,
  "nbformat_minor": 0,
  "metadata": {
    "colab": {
      "provenance": []
    },
    "kernelspec": {
      "name": "python3",
      "display_name": "Python 3"
    },
    "language_info": {
      "name": "python"
    }
  },
  "cells": [
    {
      "cell_type": "markdown",
      "source": [
        "Q1. Explain Class and Object with respect to Object-Oriented Programming. Give a suitable example.\n",
        "\n"
      ],
      "metadata": {
        "id": "yP5kYGWoN_qU"
      }
    },
    {
      "cell_type": "code",
      "source": [],
      "metadata": {
        "id": "ynzHGdK0PtEn"
      },
      "execution_count": null,
      "outputs": []
    },
    {
      "cell_type": "markdown",
      "source": [
        "Ans: \n",
        "In OOPs, a class holds all relevant methods and varaibles at a single place required for achieving a particular python project. All functions and variables can be accessed from the class at ease. \n",
        "\n",
        "We can say that class is a blue print like DNA and many different real objects can be created from the class which either inherit the property of class variables or get new properties during their creations from the user as instance variables.\n",
        "\n",
        "This is illustrated with examples below for your refrence:"
      ],
      "metadata": {
        "id": "XrARjlr3Oa4w"
      }
    },
    {
      "cell_type": "code",
      "source": [
        "class Car:\n",
        "\n",
        "  number_of_wheels = 4  # class variables: each object from Car class will hold this property.\n",
        "\n",
        "  def __init__(self, name, model, average_speed):  # instance variable: will change as per input during real time object creation by the user\n",
        "    self.name = name\n",
        "    self.model = model\n",
        "    self.average_speed = average_speed\n",
        "\n"
      ],
      "metadata": {
        "id": "4J9GeLoMOHF9"
      },
      "execution_count": 1,
      "outputs": []
    },
    {
      "cell_type": "code",
      "source": [
        "c1 = Car(\"Maruti\", \"Alto\", 60) # A real time object designed from class Car"
      ],
      "metadata": {
        "id": "1It-cVy1N_EN"
      },
      "execution_count": 13,
      "outputs": []
    },
    {
      "cell_type": "code",
      "source": [
        "c1.number_of_wheels # class variable fixed for all real objects"
      ],
      "metadata": {
        "colab": {
          "base_uri": "https://localhost:8080/"
        },
        "id": "JIOVX8ZMN-y1",
        "outputId": "a9415a3a-6c4f-459a-c672-b1525192d2b5"
      },
      "execution_count": 14,
      "outputs": [
        {
          "output_type": "execute_result",
          "data": {
            "text/plain": [
              "4"
            ]
          },
          "metadata": {},
          "execution_count": 14
        }
      ]
    },
    {
      "cell_type": "code",
      "execution_count": 15,
      "metadata": {
        "colab": {
          "base_uri": "https://localhost:8080/",
          "height": 36
        },
        "id": "r5_UJASbN73k",
        "outputId": "1ad7df4f-96b7-4d96-fe98-d0ae28e0cb70"
      },
      "outputs": [
        {
          "output_type": "execute_result",
          "data": {
            "text/plain": [
              "'Maruti'"
            ],
            "application/vnd.google.colaboratory.intrinsic+json": {
              "type": "string"
            }
          },
          "metadata": {},
          "execution_count": 15
        }
      ],
      "source": [
        "c1.name"
      ]
    },
    {
      "cell_type": "code",
      "source": [
        "c1.model"
      ],
      "metadata": {
        "colab": {
          "base_uri": "https://localhost:8080/",
          "height": 36
        },
        "id": "CcJUzUTlRFXp",
        "outputId": "9f5a1c1b-a62e-4f26-e793-c024f3ecdf24"
      },
      "execution_count": 16,
      "outputs": [
        {
          "output_type": "execute_result",
          "data": {
            "text/plain": [
              "'Alto'"
            ],
            "application/vnd.google.colaboratory.intrinsic+json": {
              "type": "string"
            }
          },
          "metadata": {},
          "execution_count": 16
        }
      ]
    },
    {
      "cell_type": "code",
      "source": [
        "c1.average_speed"
      ],
      "metadata": {
        "colab": {
          "base_uri": "https://localhost:8080/"
        },
        "id": "Du3PVg9qRHMJ",
        "outputId": "f0fb594a-2b72-4cc8-f6ba-8b63cbc087aa"
      },
      "execution_count": 17,
      "outputs": [
        {
          "output_type": "execute_result",
          "data": {
            "text/plain": [
              "60"
            ]
          },
          "metadata": {},
          "execution_count": 17
        }
      ]
    },
    {
      "cell_type": "code",
      "source": [
        "c2 = Car(\"BMW\", \"X5\", 120)"
      ],
      "metadata": {
        "id": "UJ40VU3jRJI5"
      },
      "execution_count": 22,
      "outputs": []
    },
    {
      "cell_type": "code",
      "source": [
        "c2.number_of_wheels"
      ],
      "metadata": {
        "colab": {
          "base_uri": "https://localhost:8080/"
        },
        "id": "TZM530E1Rm7F",
        "outputId": "1559916d-2544-494b-cf36-d33dfe30a438"
      },
      "execution_count": 23,
      "outputs": [
        {
          "output_type": "execute_result",
          "data": {
            "text/plain": [
              "4"
            ]
          },
          "metadata": {},
          "execution_count": 23
        }
      ]
    },
    {
      "cell_type": "code",
      "source": [
        "c2.name"
      ],
      "metadata": {
        "colab": {
          "base_uri": "https://localhost:8080/",
          "height": 36
        },
        "id": "dkKJvjscRqJ9",
        "outputId": "57fe94d3-1fb8-4e3f-8ecf-508456659856"
      },
      "execution_count": 24,
      "outputs": [
        {
          "output_type": "execute_result",
          "data": {
            "text/plain": [
              "'BMW'"
            ],
            "application/vnd.google.colaboratory.intrinsic+json": {
              "type": "string"
            }
          },
          "metadata": {},
          "execution_count": 24
        }
      ]
    },
    {
      "cell_type": "code",
      "source": [
        "c2.model"
      ],
      "metadata": {
        "colab": {
          "base_uri": "https://localhost:8080/",
          "height": 36
        },
        "id": "gsx_TEclRrp1",
        "outputId": "7762bcdf-9624-4992-d540-9e724066ada6"
      },
      "execution_count": 25,
      "outputs": [
        {
          "output_type": "execute_result",
          "data": {
            "text/plain": [
              "'X5'"
            ],
            "application/vnd.google.colaboratory.intrinsic+json": {
              "type": "string"
            }
          },
          "metadata": {},
          "execution_count": 25
        }
      ]
    },
    {
      "cell_type": "code",
      "source": [
        "c2.average_speed"
      ],
      "metadata": {
        "colab": {
          "base_uri": "https://localhost:8080/"
        },
        "id": "eTpSUZFORtEt",
        "outputId": "7466d2dd-137f-4c85-ceb1-c653a0b5d501"
      },
      "execution_count": 26,
      "outputs": [
        {
          "output_type": "execute_result",
          "data": {
            "text/plain": [
              "120"
            ]
          },
          "metadata": {},
          "execution_count": 26
        }
      ]
    },
    {
      "cell_type": "markdown",
      "source": [
        "Q2. Name the four pillars of OOPs."
      ],
      "metadata": {
        "id": "64sw2jv6RyWA"
      }
    },
    {
      "cell_type": "markdown",
      "source": [
        "Ans:\n",
        "\n",
        "Four pillars of OOPs are:\n",
        "\n",
        "1) Inheritance\n",
        "\n",
        "2) Polymorphism\n",
        "\n",
        "3) Encapsulation\n",
        "\n",
        "4) Abstraction"
      ],
      "metadata": {
        "id": "dlI4P3HQR0Up"
      }
    },
    {
      "cell_type": "markdown",
      "source": [
        "Q3. Explain why the __init__() function is used. Give a suitable example."
      ],
      "metadata": {
        "id": "MHUqLSJLSDmz"
      }
    },
    {
      "cell_type": "markdown",
      "source": [
        "Ans:\n",
        "\n",
        "init() is a dunder method in python that helps creating instance variables while creating an object from a class. In the example given below, we can see that we can define variables during real time object creation (maruti, BMW)."
      ],
      "metadata": {
        "id": "-hkn9-rhSHib"
      }
    },
    {
      "cell_type": "code",
      "source": [
        "class Car:\n",
        "\n",
        "  number_of_wheels = 4  # class variables: each object from Car class will hold this property.\n",
        "\n",
        "  def __init__(self, name, model, average_speed):  # instance variable: will change as per input during real time object creation by the user\n",
        "    self.name = name\n",
        "    self.model = model\n",
        "    self.average_speed = average_speed"
      ],
      "metadata": {
        "id": "K2haEtt2Rxj-"
      },
      "execution_count": 27,
      "outputs": []
    },
    {
      "cell_type": "code",
      "source": [
        "c1 = Car(\"Maruti\", \"Alto\", 60) # A real time object designed from class Car"
      ],
      "metadata": {
        "id": "HP4_s6yxSXbz"
      },
      "execution_count": 28,
      "outputs": []
    },
    {
      "cell_type": "code",
      "source": [
        "c2 = Car(\"BMW\", \"X5\", 120) # A real time object designed from class Car"
      ],
      "metadata": {
        "id": "4yimdun5Srt1"
      },
      "execution_count": 29,
      "outputs": []
    },
    {
      "cell_type": "code",
      "source": [
        "c1.name"
      ],
      "metadata": {
        "colab": {
          "base_uri": "https://localhost:8080/",
          "height": 36
        },
        "id": "Y8B5o1xESu1s",
        "outputId": "edf09a59-9ac4-419a-8ca1-34be61557a76"
      },
      "execution_count": 30,
      "outputs": [
        {
          "output_type": "execute_result",
          "data": {
            "text/plain": [
              "'Maruti'"
            ],
            "application/vnd.google.colaboratory.intrinsic+json": {
              "type": "string"
            }
          },
          "metadata": {},
          "execution_count": 30
        }
      ]
    },
    {
      "cell_type": "code",
      "source": [
        "c2.name"
      ],
      "metadata": {
        "colab": {
          "base_uri": "https://localhost:8080/",
          "height": 36
        },
        "id": "agvAX_pdSvxF",
        "outputId": "a738c021-d5b5-4ef8-ca46-83ed6d0e8d3c"
      },
      "execution_count": 31,
      "outputs": [
        {
          "output_type": "execute_result",
          "data": {
            "text/plain": [
              "'BMW'"
            ],
            "application/vnd.google.colaboratory.intrinsic+json": {
              "type": "string"
            }
          },
          "metadata": {},
          "execution_count": 31
        }
      ]
    },
    {
      "cell_type": "markdown",
      "source": [
        "Q4. Why self is used in OOPs?"
      ],
      "metadata": {
        "id": "sZVihgboSyb3"
      }
    },
    {
      "cell_type": "markdown",
      "source": [
        "Ans: \n",
        "\n",
        "Self is the first argument given in all class methods and variables as it helps bind the methods and variables to the that particular class."
      ],
      "metadata": {
        "id": "G2DJwp9PS0yQ"
      }
    },
    {
      "cell_type": "markdown",
      "source": [
        "Q5. What is inheritance? Give an example for each type of inheritance."
      ],
      "metadata": {
        "id": "HAxQc0T2TaPt"
      }
    },
    {
      "cell_type": "markdown",
      "source": [
        "Ans:\n",
        "\n",
        "Inheritance is one of the four pillars of OOPs in python which lets a class to inherit the property of another class.\n",
        "\n",
        "Inheritance can be \n",
        "\n",
        "1) simple : When a class inherits the properties of another class.\n",
        "\n",
        "2) Multiple: When a class inherits properties of more than one classes.\n",
        "\n",
        "3) Multi-level: When class inherits properties of other class which in turn inherits properies of another class. This hierarchy can have many levels.\n",
        "\n",
        "Each one is shown below with an example - \n",
        "\n",
        "1) simple"
      ],
      "metadata": {
        "id": "PkBKyPM4Taxd"
      }
    },
    {
      "cell_type": "code",
      "source": [
        "class Car:\n",
        "  number_of_wheels = 4\n",
        "\n",
        "class BMW(Car):\n",
        "  pass"
      ],
      "metadata": {
        "id": "9I7rZ1YjS160"
      },
      "execution_count": 32,
      "outputs": []
    },
    {
      "cell_type": "code",
      "source": [
        "BMW().number_of_wheels"
      ],
      "metadata": {
        "colab": {
          "base_uri": "https://localhost:8080/"
        },
        "id": "SI1lBbGQWzye",
        "outputId": "88181524-aabf-40d9-f5b6-eb0895fe39f7"
      },
      "execution_count": 33,
      "outputs": [
        {
          "output_type": "execute_result",
          "data": {
            "text/plain": [
              "4"
            ]
          },
          "metadata": {},
          "execution_count": 33
        }
      ]
    },
    {
      "cell_type": "markdown",
      "source": [
        "2) Multiple"
      ],
      "metadata": {
        "id": "qsWc9rSmW5We"
      }
    },
    {
      "cell_type": "code",
      "source": [
        "class Mummy:\n",
        "  Mummy_name = \"My mummy's name is Mira\""
      ],
      "metadata": {
        "id": "O1m03mJLW4Gs"
      },
      "execution_count": 41,
      "outputs": []
    },
    {
      "cell_type": "code",
      "source": [
        "class Papa:\n",
        "  Papa_name = \"My papa's name is Mahesh\"\n"
      ],
      "metadata": {
        "id": "G7WjYR0_YP8d"
      },
      "execution_count": 42,
      "outputs": []
    },
    {
      "cell_type": "code",
      "source": [
        "class Child(Mummy, Papa):\n",
        "  pass"
      ],
      "metadata": {
        "id": "0SNbfKUQYds3"
      },
      "execution_count": 43,
      "outputs": []
    },
    {
      "cell_type": "code",
      "source": [
        "balak =  Child()"
      ],
      "metadata": {
        "id": "RU8Mc3VxYkUg"
      },
      "execution_count": 44,
      "outputs": []
    },
    {
      "cell_type": "code",
      "source": [
        "balak.Mummy_name"
      ],
      "metadata": {
        "colab": {
          "base_uri": "https://localhost:8080/",
          "height": 36
        },
        "id": "YLOal9lVYm8A",
        "outputId": "9d4c080a-714a-43ba-f1b9-576fb0ba680a"
      },
      "execution_count": 45,
      "outputs": [
        {
          "output_type": "execute_result",
          "data": {
            "text/plain": [
              "\"My mummy's name is Mira\""
            ],
            "application/vnd.google.colaboratory.intrinsic+json": {
              "type": "string"
            }
          },
          "metadata": {},
          "execution_count": 45
        }
      ]
    },
    {
      "cell_type": "code",
      "source": [
        "balak.Papa_name"
      ],
      "metadata": {
        "colab": {
          "base_uri": "https://localhost:8080/",
          "height": 36
        },
        "id": "B4IPmuSJYpfZ",
        "outputId": "bf36f37b-5790-441a-aa98-91311cc2edf7"
      },
      "execution_count": 46,
      "outputs": [
        {
          "output_type": "execute_result",
          "data": {
            "text/plain": [
              "\"My papa's name is Mahesh\""
            ],
            "application/vnd.google.colaboratory.intrinsic+json": {
              "type": "string"
            }
          },
          "metadata": {},
          "execution_count": 46
        }
      ]
    },
    {
      "cell_type": "markdown",
      "source": [
        "2) Multi-level"
      ],
      "metadata": {
        "id": "3583cu_vYzyk"
      }
    },
    {
      "cell_type": "code",
      "source": [
        "class Dadaji:\n",
        "  proprty_transferred_by_dadaji = 9000000"
      ],
      "metadata": {
        "id": "yPeroNrpY46F"
      },
      "execution_count": 50,
      "outputs": []
    },
    {
      "cell_type": "code",
      "source": [
        "class Papa(Dadaji):\n",
        "  property_received_by_papa_after_tax = 8000000"
      ],
      "metadata": {
        "id": "-rKbTLypZJas"
      },
      "execution_count": 51,
      "outputs": []
    },
    {
      "cell_type": "code",
      "source": [
        "class Beta(Papa):\n",
        "  property_received_by_me_after_tax = 7200000\n"
      ],
      "metadata": {
        "id": "Y5ULltr9ZXKO"
      },
      "execution_count": 56,
      "outputs": []
    },
    {
      "cell_type": "code",
      "source": [
        "baccha = Beta()"
      ],
      "metadata": {
        "id": "4ovBK1ufZzRx"
      },
      "execution_count": 57,
      "outputs": []
    },
    {
      "cell_type": "code",
      "source": [
        "baccha.proprty_transferred_by_dadaji"
      ],
      "metadata": {
        "colab": {
          "base_uri": "https://localhost:8080/"
        },
        "id": "1HkZpl0OZ1zp",
        "outputId": "06519528-49fa-473e-eead-ee5bf8b900cc"
      },
      "execution_count": 58,
      "outputs": [
        {
          "output_type": "execute_result",
          "data": {
            "text/plain": [
              "9000000"
            ]
          },
          "metadata": {},
          "execution_count": 58
        }
      ]
    },
    {
      "cell_type": "code",
      "source": [
        "baccha.property_received_by_papa_after_tax"
      ],
      "metadata": {
        "colab": {
          "base_uri": "https://localhost:8080/"
        },
        "id": "VDtO70b_Z3oJ",
        "outputId": "f23a103f-d3a3-4a5b-8cab-a2274d2c9b92"
      },
      "execution_count": 61,
      "outputs": [
        {
          "output_type": "execute_result",
          "data": {
            "text/plain": [
              "8000000"
            ]
          },
          "metadata": {},
          "execution_count": 61
        }
      ]
    },
    {
      "cell_type": "code",
      "source": [
        "baccha.property_received_by_me_after_tax"
      ],
      "metadata": {
        "colab": {
          "base_uri": "https://localhost:8080/"
        },
        "id": "VvAT1XnKZ6dz",
        "outputId": "7c4691f5-f430-4deb-b1e2-7d49c75acd22"
      },
      "execution_count": 62,
      "outputs": [
        {
          "output_type": "execute_result",
          "data": {
            "text/plain": [
              "7200000"
            ]
          },
          "metadata": {},
          "execution_count": 62
        }
      ]
    }
  ]
}