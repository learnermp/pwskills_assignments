{
  "nbformat": 4,
  "nbformat_minor": 0,
  "metadata": {
    "colab": {
      "provenance": []
    },
    "kernelspec": {
      "name": "python3",
      "display_name": "Python 3"
    },
    "language_info": {
      "name": "python"
    }
  },
  "cells": [
    {
      "cell_type": "markdown",
      "source": [
        "Q1. What is Abstraction in OOps? Explain with an example."
      ],
      "metadata": {
        "id": "ljJyyTnwgMlL"
      }
    },
    {
      "cell_type": "markdown",
      "source": [
        "Ans:\n",
        "\n",
        "Abstration in python refers to the concept of showcasing the service to the end users without revealing the implementation. Abstraction in terms OOPs implements abstractmethod decorator in class methods which helps in creating a basic template for the all abstract methods of a class which can later be edited by any other developers for making any changes in the method."
      ],
      "metadata": {
        "id": "TcqvvuzhgwD_"
      }
    },
    {
      "cell_type": "code",
      "execution_count": 1,
      "metadata": {
        "id": "WVYpE07SgLcr"
      },
      "outputs": [],
      "source": [
        "from abc import ABC, abstractmethod\n",
        "class Car(ABC):\n",
        "  def basic_strucutre(self):\n",
        "    print(\"A car has four wheels\")\n",
        "\n",
        "  @abstractmethod\n",
        "  def Average_Velocity(self):\n",
        "    pass"
      ]
    },
    {
      "cell_type": "markdown",
      "source": [
        "Above basic template for Average_Velocity method in Car class is created by using abstractmethod from abc module. In this way, we have created a basic template for Car class. If any developer uses this class to create a new class for a particular model of a car then he can accordingly set the average velocity. Two examples are cited below -"
      ],
      "metadata": {
        "id": "I5G67d0fjLfH"
      }
    },
    {
      "cell_type": "markdown",
      "source": [
        "Example 1:"
      ],
      "metadata": {
        "id": "I0UryiWSl1DB"
      }
    },
    {
      "cell_type": "code",
      "source": [
        "class BMW(Car):\n",
        "  def Average_Velocity(self):\n",
        "    print(\"Average_Velocity of BMW is 120\")"
      ],
      "metadata": {
        "id": "_HpOLgjdjD1T"
      },
      "execution_count": 2,
      "outputs": []
    },
    {
      "cell_type": "code",
      "source": [
        "bmw = BMW()"
      ],
      "metadata": {
        "id": "IPAzEzFtlyKY"
      },
      "execution_count": 3,
      "outputs": []
    },
    {
      "cell_type": "code",
      "source": [
        "bmw.basic_strucutre()"
      ],
      "metadata": {
        "colab": {
          "base_uri": "https://localhost:8080/"
        },
        "id": "7B8jkJv2lyHo",
        "outputId": "9a02faef-c036-445f-c89c-ae4c31830279"
      },
      "execution_count": 4,
      "outputs": [
        {
          "output_type": "stream",
          "name": "stdout",
          "text": [
            "A car has four wheels\n"
          ]
        }
      ]
    },
    {
      "cell_type": "code",
      "source": [
        "bmw.Average_Velocity()"
      ],
      "metadata": {
        "colab": {
          "base_uri": "https://localhost:8080/"
        },
        "id": "oVnCaePql_iy",
        "outputId": "fc5a675a-073d-4868-eaf6-1e4e2e77b1d4"
      },
      "execution_count": 5,
      "outputs": [
        {
          "output_type": "stream",
          "name": "stdout",
          "text": [
            "Average_Velocity of BMW is 120\n"
          ]
        }
      ]
    },
    {
      "cell_type": "code",
      "source": [
        "class Maruti(Car):\n",
        "  def Average_Velocity(self):\n",
        "    print(\"Average_Velocity of maruti is 80\")"
      ],
      "metadata": {
        "id": "mDPPUAiJllMG"
      },
      "execution_count": 16,
      "outputs": []
    },
    {
      "cell_type": "code",
      "source": [
        "maruti = Maruti()"
      ],
      "metadata": {
        "id": "vJNMVqCjmCgL"
      },
      "execution_count": 17,
      "outputs": []
    },
    {
      "cell_type": "code",
      "source": [
        "maruti.basic_strucutre()"
      ],
      "metadata": {
        "colab": {
          "base_uri": "https://localhost:8080/"
        },
        "id": "iHy78TexmGDZ",
        "outputId": "d330c411-2dac-4fe8-ba5a-c74d8a5655d6"
      },
      "execution_count": 18,
      "outputs": [
        {
          "output_type": "stream",
          "name": "stdout",
          "text": [
            "A car has four wheels\n"
          ]
        }
      ]
    },
    {
      "cell_type": "code",
      "source": [
        "maruti.Average_Velocity()"
      ],
      "metadata": {
        "colab": {
          "base_uri": "https://localhost:8080/"
        },
        "id": "FvNDtrQhmN4J",
        "outputId": "e036c608-50bf-42b2-8608-da03eca338c7"
      },
      "execution_count": 19,
      "outputs": [
        {
          "output_type": "stream",
          "name": "stdout",
          "text": [
            "Average_Velocity of maruti is 80\n"
          ]
        }
      ]
    },
    {
      "cell_type": "markdown",
      "source": [
        "Q2. Differentiate between Abstraction and Encapsulation. Explain with an example."
      ],
      "metadata": {
        "id": "oIZbVpnbnBCK"
      }
    },
    {
      "cell_type": "markdown",
      "source": [
        "Ans:\n",
        "\n",
        "Abstration in python refers to the concept of showcasing the service to the end users without revealing the implementation.\n",
        "\n",
        "Encapsulation, on the other hand, is the concept of making the class/instance variables and methods inaccessible to the users. This helps in keeping safe the hidden variables from the users, otherwise, variables and methods of a class will be edited intentionally or unintentionally. This is achieved via adding double underscores (hidden) before variables/methods. We can also make variables/methods private by prefixing single underscore."
      ],
      "metadata": {
        "id": "BEYJO_TInI-y"
      }
    },
    {
      "cell_type": "markdown",
      "source": [
        "Simple example of abstraction:"
      ],
      "metadata": {
        "id": "zX6WZU7pn63Q"
      }
    },
    {
      "cell_type": "code",
      "source": [
        "class Add:\n",
        "    @staticmethod\n",
        "    def add(a, b):\n",
        "        return a + b\n",
        "\n",
        "class Substract:\n",
        "    @staticmethod\n",
        "    def substract(a, b):\n",
        "        return a - b\n",
        "\n",
        "def add_or_subtract(a, b):\n",
        "    choice = input(\"Write 'add' or 'sub': \").lower()\n",
        "    if choice == 'add':\n",
        "        print(Add.add(a, b))\n",
        "    elif choice == 'sub':\n",
        "        print(Substract.substract(a, b))\n",
        "    else:\n",
        "        print(\"Invalid choice.\")"
      ],
      "metadata": {
        "id": "vp7-bAHJmRLB"
      },
      "execution_count": 76,
      "outputs": []
    },
    {
      "cell_type": "code",
      "source": [
        "add_or_subtract(5, 4)"
      ],
      "metadata": {
        "colab": {
          "base_uri": "https://localhost:8080/"
        },
        "id": "IQ60Cq-2pDhk",
        "outputId": "c3c66204-6a50-4e2f-85ec-d3b8b856afe5"
      },
      "execution_count": 77,
      "outputs": [
        {
          "output_type": "stream",
          "name": "stdout",
          "text": [
            "Write 'add' or 'sub': sub\n",
            "1\n"
          ]
        }
      ]
    },
    {
      "cell_type": "code",
      "source": [
        "add_or_subtract(5, 4)"
      ],
      "metadata": {
        "colab": {
          "base_uri": "https://localhost:8080/"
        },
        "id": "us-iACAZpHm1",
        "outputId": "1e147a37-46c7-443e-cba8-5e21d229ac2a"
      },
      "execution_count": 78,
      "outputs": [
        {
          "output_type": "stream",
          "name": "stdout",
          "text": [
            "Write 'add' or 'sub': add\n",
            "9\n"
          ]
        }
      ]
    },
    {
      "cell_type": "markdown",
      "source": [
        "In the above example, service of addition and substration are enabled for user but not the implementation. User is not aware of inner details of add and sunstract methods."
      ],
      "metadata": {
        "id": "3b5m3pMMvZUK"
      }
    },
    {
      "cell_type": "markdown",
      "source": [
        "Simple example of encapsulation:"
      ],
      "metadata": {
        "id": "Jtum-tGJwskL"
      }
    },
    {
      "cell_type": "code",
      "source": [
        "class Identity:\n",
        "  def __init__(self, age, sex, behaviour):\n",
        "    self.age = age\n",
        "    self._sex = sex\n",
        "    self.__behaviour = behaviour"
      ],
      "metadata": {
        "id": "QKao7lN4sb9L"
      },
      "execution_count": 79,
      "outputs": []
    },
    {
      "cell_type": "code",
      "source": [
        "vishal = Identity(38, \"male\", \"Bhakt\")"
      ],
      "metadata": {
        "id": "nlX_8ndwyb8c"
      },
      "execution_count": 80,
      "outputs": []
    },
    {
      "cell_type": "code",
      "source": [
        "vishal.age"
      ],
      "metadata": {
        "colab": {
          "base_uri": "https://localhost:8080/"
        },
        "id": "IleehMRgykjs",
        "outputId": "c1c29f76-cf59-4f19-c00d-fb164ad76f6f"
      },
      "execution_count": 81,
      "outputs": [
        {
          "output_type": "execute_result",
          "data": {
            "text/plain": [
              "38"
            ]
          },
          "metadata": {},
          "execution_count": 81
        }
      ]
    },
    {
      "cell_type": "code",
      "source": [
        "vishal.sex"
      ],
      "metadata": {
        "colab": {
          "base_uri": "https://localhost:8080/",
          "height": 171
        },
        "id": "piGEqhM3ym9N",
        "outputId": "20c2717b-755b-46c5-d533-8c90af63d43c"
      },
      "execution_count": 82,
      "outputs": [
        {
          "output_type": "error",
          "ename": "AttributeError",
          "evalue": "ignored",
          "traceback": [
            "\u001b[0;31m---------------------------------------------------------------------------\u001b[0m",
            "\u001b[0;31mAttributeError\u001b[0m                            Traceback (most recent call last)",
            "\u001b[0;32m<ipython-input-82-b56e4f07898a>\u001b[0m in \u001b[0;36m<cell line: 1>\u001b[0;34m()\u001b[0m\n\u001b[0;32m----> 1\u001b[0;31m \u001b[0mvishal\u001b[0m\u001b[0;34m.\u001b[0m\u001b[0msex\u001b[0m\u001b[0;34m\u001b[0m\u001b[0;34m\u001b[0m\u001b[0m\n\u001b[0m",
            "\u001b[0;31mAttributeError\u001b[0m: 'Identity' object has no attribute 'sex'"
          ]
        }
      ]
    },
    {
      "cell_type": "code",
      "source": [
        "vishal._sex"
      ],
      "metadata": {
        "colab": {
          "base_uri": "https://localhost:8080/",
          "height": 36
        },
        "id": "RVgHV_G3yqgl",
        "outputId": "44bcba0a-8020-4612-ca47-53a80777e8e6"
      },
      "execution_count": 84,
      "outputs": [
        {
          "output_type": "execute_result",
          "data": {
            "text/plain": [
              "'male'"
            ],
            "application/vnd.google.colaboratory.intrinsic+json": {
              "type": "string"
            }
          },
          "metadata": {},
          "execution_count": 84
        }
      ]
    },
    {
      "cell_type": "code",
      "source": [
        "vishal.behaviour"
      ],
      "metadata": {
        "colab": {
          "base_uri": "https://localhost:8080/",
          "height": 171
        },
        "id": "2eslT4PCytZU",
        "outputId": "c9082318-d077-41e6-9d2e-9d8dcfb0bca5"
      },
      "execution_count": 85,
      "outputs": [
        {
          "output_type": "error",
          "ename": "AttributeError",
          "evalue": "ignored",
          "traceback": [
            "\u001b[0;31m---------------------------------------------------------------------------\u001b[0m",
            "\u001b[0;31mAttributeError\u001b[0m                            Traceback (most recent call last)",
            "\u001b[0;32m<ipython-input-85-5a11acf2d5ee>\u001b[0m in \u001b[0;36m<cell line: 1>\u001b[0;34m()\u001b[0m\n\u001b[0;32m----> 1\u001b[0;31m \u001b[0mvishal\u001b[0m\u001b[0;34m.\u001b[0m\u001b[0mbehaviour\u001b[0m\u001b[0;34m\u001b[0m\u001b[0;34m\u001b[0m\u001b[0m\n\u001b[0m",
            "\u001b[0;31mAttributeError\u001b[0m: 'Identity' object has no attribute 'behaviour'"
          ]
        }
      ]
    },
    {
      "cell_type": "code",
      "source": [
        "vishal.__behaviour"
      ],
      "metadata": {
        "colab": {
          "base_uri": "https://localhost:8080/",
          "height": 171
        },
        "id": "XscmSBqiyx3F",
        "outputId": "5e5abd73-75b5-4d98-f1d3-3aef15f74467"
      },
      "execution_count": 86,
      "outputs": [
        {
          "output_type": "error",
          "ename": "AttributeError",
          "evalue": "ignored",
          "traceback": [
            "\u001b[0;31m---------------------------------------------------------------------------\u001b[0m",
            "\u001b[0;31mAttributeError\u001b[0m                            Traceback (most recent call last)",
            "\u001b[0;32m<ipython-input-86-fbe5238e7043>\u001b[0m in \u001b[0;36m<cell line: 1>\u001b[0;34m()\u001b[0m\n\u001b[0;32m----> 1\u001b[0;31m \u001b[0mvishal\u001b[0m\u001b[0;34m.\u001b[0m\u001b[0m__behaviour\u001b[0m\u001b[0;34m\u001b[0m\u001b[0;34m\u001b[0m\u001b[0m\n\u001b[0m",
            "\u001b[0;31mAttributeError\u001b[0m: 'Identity' object has no attribute '__behaviour'"
          ]
        }
      ]
    },
    {
      "cell_type": "code",
      "source": [
        "vishal._Identity__behaviour"
      ],
      "metadata": {
        "colab": {
          "base_uri": "https://localhost:8080/",
          "height": 36
        },
        "id": "NTXEm_yLyzrV",
        "outputId": "f7a3c9e6-77bd-4d2b-e108-426c9322f336"
      },
      "execution_count": 89,
      "outputs": [
        {
          "output_type": "execute_result",
          "data": {
            "text/plain": [
              "'Bhakt'"
            ],
            "application/vnd.google.colaboratory.intrinsic+json": {
              "type": "string"
            }
          },
          "metadata": {},
          "execution_count": 89
        }
      ]
    },
    {
      "cell_type": "markdown",
      "source": [
        "Q3. What is abc module in python? Why is it used?"
      ],
      "metadata": {
        "id": "7wC8lX2yzVb9"
      }
    },
    {
      "cell_type": "markdown",
      "source": [
        "Ans:\n",
        "\n",
        "abc module in python helps in creating abstract class and methods in python. Its ABC superclass creats abstract class and abstractmethod decorator makes a function abstract inside the class. This is illustraed with an example:"
      ],
      "metadata": {
        "id": "On3XLk5GzWX0"
      }
    },
    {
      "cell_type": "code",
      "source": [
        "from abc import ABC, abstractmethod\n",
        "class Car(ABC):\n",
        "  def basic_strucutre(self):\n",
        "    print(\"A car has four wheels\")\n",
        "\n",
        "  @abstractmethod\n",
        "  def Average_Velocity(self):\n",
        "    pass"
      ],
      "metadata": {
        "id": "nIFdZ4UYzUpk"
      },
      "execution_count": 90,
      "outputs": []
    },
    {
      "cell_type": "markdown",
      "source": [
        "Above basic template for Average_Velocity method in Car class is created by using abstractmethod from abc module. In this way, we have created a basic template for Car class. If any developer uses this class to create a new class for a particular model of a car then he can accordingly set the average velocity. An example is given below -"
      ],
      "metadata": {
        "id": "nuQ9VUz-z73Z"
      }
    },
    {
      "cell_type": "markdown",
      "source": [
        "Subexample 1:"
      ],
      "metadata": {
        "id": "kwrz5fGl0UAc"
      }
    },
    {
      "cell_type": "code",
      "source": [
        "class BMW(Car):\n",
        "  def Average_Velocity(self):\n",
        "    print(\"Average_Velocity of BMW is 120\")"
      ],
      "metadata": {
        "id": "ovcacZkty26e"
      },
      "execution_count": 91,
      "outputs": []
    },
    {
      "cell_type": "code",
      "source": [
        "bmw = BMW()"
      ],
      "metadata": {
        "id": "gdn9xG2i0Fzz"
      },
      "execution_count": 92,
      "outputs": []
    },
    {
      "cell_type": "code",
      "source": [
        "bmw.basic_strucutre()"
      ],
      "metadata": {
        "colab": {
          "base_uri": "https://localhost:8080/"
        },
        "id": "uPk4Ntzg0Frb",
        "outputId": "e6bf078b-b720-4c10-85e9-1e77130237be"
      },
      "execution_count": 93,
      "outputs": [
        {
          "output_type": "stream",
          "name": "stdout",
          "text": [
            "A car has four wheels\n"
          ]
        }
      ]
    },
    {
      "cell_type": "code",
      "source": [
        "bmw.Average_Velocity()"
      ],
      "metadata": {
        "colab": {
          "base_uri": "https://localhost:8080/"
        },
        "id": "s_jSm70b0Fmr",
        "outputId": "025ae746-0216-4b8a-b2ae-173f78af57dd"
      },
      "execution_count": 94,
      "outputs": [
        {
          "output_type": "stream",
          "name": "stdout",
          "text": [
            "Average_Velocity of BMW is 120\n"
          ]
        }
      ]
    },
    {
      "cell_type": "markdown",
      "source": [
        "Subexample 2:"
      ],
      "metadata": {
        "id": "gj6rlBci0cwU"
      }
    },
    {
      "cell_type": "code",
      "source": [
        "class Maruti(Car):\n",
        "  def Average_Velocity(self):\n",
        "    print(\"Average_Velocity of maruti is 80\")"
      ],
      "metadata": {
        "id": "9WtdgBIm0S8I"
      },
      "execution_count": 96,
      "outputs": []
    },
    {
      "cell_type": "code",
      "source": [
        "maruti = Maruti()"
      ],
      "metadata": {
        "id": "Q8UezUXP0fPS"
      },
      "execution_count": 97,
      "outputs": []
    },
    {
      "cell_type": "code",
      "source": [
        "maruti.basic_strucutre()"
      ],
      "metadata": {
        "colab": {
          "base_uri": "https://localhost:8080/"
        },
        "id": "f06Ll-U60jEC",
        "outputId": "1e9ca5f1-b227-408d-840d-4e9bec728edc"
      },
      "execution_count": 98,
      "outputs": [
        {
          "output_type": "stream",
          "name": "stdout",
          "text": [
            "A car has four wheels\n"
          ]
        }
      ]
    },
    {
      "cell_type": "code",
      "source": [
        "maruti.Average_Velocity()"
      ],
      "metadata": {
        "colab": {
          "base_uri": "https://localhost:8080/"
        },
        "id": "CNFAHiaZ0l0i",
        "outputId": "99d283d0-e42f-44ce-87a3-4166c1c54875"
      },
      "execution_count": 99,
      "outputs": [
        {
          "output_type": "stream",
          "name": "stdout",
          "text": [
            "Average_Velocity of maruti is 80\n"
          ]
        }
      ]
    },
    {
      "cell_type": "markdown",
      "source": [
        "Q4. How can we achieve data abstraction?"
      ],
      "metadata": {
        "id": "1mylQcBQ0_2I"
      }
    },
    {
      "cell_type": "markdown",
      "source": [
        "Ans:\n",
        "\n",
        "By means of abstract class ABS and abstractmethod decorator from abc module."
      ],
      "metadata": {
        "id": "Jpbxq1T11Aw5"
      }
    },
    {
      "cell_type": "code",
      "source": [
        "from abc import ABC, abstractmethod\n",
        "class Car(ABC):\n",
        "  def basic_strucutre(self):\n",
        "    print(\"A car has four wheels\")\n",
        "\n",
        "  @abstractmethod\n",
        "  def Average_Velocity(self):\n",
        "    pass"
      ],
      "metadata": {
        "id": "rTi7aR2m0n0S"
      },
      "execution_count": 100,
      "outputs": []
    },
    {
      "cell_type": "markdown",
      "source": [
        "By means of staticmethod decorator."
      ],
      "metadata": {
        "id": "6ikNnRW51TSC"
      }
    },
    {
      "cell_type": "code",
      "source": [
        "class Add:\n",
        "    @staticmethod\n",
        "    def add(a, b):\n",
        "        return a + b\n",
        "\n",
        "class Substract:\n",
        "    @staticmethod\n",
        "    def substract(a, b):\n",
        "        return a - b\n",
        "\n",
        "def add_or_subtract(a, b):\n",
        "    choice = input(\"Write 'add' or 'sub': \").lower()\n",
        "    if choice == 'add':\n",
        "        print(Add.add(a, b))\n",
        "    elif choice == 'sub':\n",
        "        print(Substract.substract(a, b))\n",
        "    else:\n",
        "        print(\"Invalid choice.\")"
      ],
      "metadata": {
        "id": "RbihGD9R1Qn4"
      },
      "execution_count": 101,
      "outputs": []
    },
    {
      "cell_type": "markdown",
      "source": [
        "Q5. Can we create an instance of an abstract class? Explain your answer."
      ],
      "metadata": {
        "id": "xbEolu6E1cDL"
      }
    },
    {
      "cell_type": "markdown",
      "source": [
        "Ans:\n",
        "\n",
        "No, we can not create an instance of an abstract class as abstract class have abstract methods which needs to be implemented while creating subclasses. Abstract class is a blue print with abstractmethods. During creation of a subclass that particular method needs to be well defined. Later, we can create instance of subclass. An example is given below:\n"
      ],
      "metadata": {
        "id": "UL6OxBsE1flz"
      }
    },
    {
      "cell_type": "code",
      "source": [
        "from abc import ABC, abstractmethod\n",
        "class Car(ABC):\n",
        "  def basic_strucutre(self):\n",
        "    print(\"A car has four wheels\")\n",
        "\n",
        "  @abstractmethod\n",
        "  def Average_Velocity(self):\n",
        "    pass"
      ],
      "metadata": {
        "id": "iA_c8aCf1Z1Q"
      },
      "execution_count": 102,
      "outputs": []
    },
    {
      "cell_type": "code",
      "source": [
        "Car() # instance of an abstract class can not be created"
      ],
      "metadata": {
        "colab": {
          "base_uri": "https://localhost:8080/",
          "height": 171
        },
        "id": "RK7aVdRU26B0",
        "outputId": "4f062c55-a8b9-46bf-b119-dc71bf790f08"
      },
      "execution_count": 105,
      "outputs": [
        {
          "output_type": "error",
          "ename": "TypeError",
          "evalue": "ignored",
          "traceback": [
            "\u001b[0;31m---------------------------------------------------------------------------\u001b[0m",
            "\u001b[0;31mTypeError\u001b[0m                                 Traceback (most recent call last)",
            "\u001b[0;32m<ipython-input-105-a30cd0ae1cf4>\u001b[0m in \u001b[0;36m<cell line: 1>\u001b[0;34m()\u001b[0m\n\u001b[0;32m----> 1\u001b[0;31m \u001b[0mCar\u001b[0m\u001b[0;34m(\u001b[0m\u001b[0;34m)\u001b[0m \u001b[0;31m# instance of an abstract class can not be created\u001b[0m\u001b[0;34m\u001b[0m\u001b[0;34m\u001b[0m\u001b[0m\n\u001b[0m",
            "\u001b[0;31mTypeError\u001b[0m: Can't instantiate abstract class Car with abstract method Average_Velocity"
          ]
        }
      ]
    },
    {
      "cell_type": "code",
      "source": [
        "class Maruti(Car):\n",
        "  def Average_Velocity(self):\n",
        "    print(\"Average_Velocity of maruti is 80\")"
      ],
      "metadata": {
        "id": "P58zcDPs234c"
      },
      "execution_count": 103,
      "outputs": []
    },
    {
      "cell_type": "code",
      "source": [
        "Maruti() # instance of subclass Maruti (inheriting properties from Car class) can be created"
      ],
      "metadata": {
        "colab": {
          "base_uri": "https://localhost:8080/"
        },
        "id": "bp1K6Ulv2310",
        "outputId": "42d6ee34-333b-43fd-8496-0140004350be"
      },
      "execution_count": 106,
      "outputs": [
        {
          "output_type": "execute_result",
          "data": {
            "text/plain": [
              "<__main__.Maruti at 0x7f39c881b430>"
            ]
          },
          "metadata": {},
          "execution_count": 106
        }
      ]
    }
  ]
}