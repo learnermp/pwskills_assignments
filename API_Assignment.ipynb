{
  "nbformat": 4,
  "nbformat_minor": 0,
  "metadata": {
    "colab": {
      "provenance": []
    },
    "kernelspec": {
      "name": "python3",
      "display_name": "Python 3"
    },
    "language_info": {
      "name": "python"
    }
  },
  "cells": [
    {
      "cell_type": "markdown",
      "source": [
        "Q1. What is an API? Give an example, where an API is used in real life.\n",
        "\n",
        "Ans:\n",
        "\n",
        "Application Programming Interface (API) is an interface that allows two independently existing softwares to communicate with each other and exchange their information. API has methods through which these independent softwares request services from each other.\n",
        "\n",
        "In google search engine when we put search terms and hit enter then these search terms communicate with database/another application which inturn gives response in terms of search results.\n",
        "\n"
      ],
      "metadata": {
        "id": "piJbwjT8spRZ"
      }
    },
    {
      "cell_type": "markdown",
      "source": [
        "Q2. Give advantages and disadvantages of using API.\n",
        "\n",
        "Ans:\n",
        "\n",
        "Advantages:\n",
        "\n",
        "1) API is generally written is standard format which makes it easy to use.\n",
        "\n",
        "2) Standard format of API helps in troublehsooting as large community of developers are avaivale for online support.\n",
        "\n",
        "3) Code resuability helps saving lots of time.\n",
        "\n",
        "Disdavatages:\n",
        "\n",
        "1) Any major change requires a lot of effort as API is a layered format.\n",
        "\n",
        "2) We use stabndard API which are written by other developers, therefore, it requires time and effort to understand API code fully.\n",
        "\n",
        "3) API can lead to security breach of sensitive data if not designed carefully.\n"
      ],
      "metadata": {
        "id": "-9pav1bRwbKR"
      }
    },
    {
      "cell_type": "markdown",
      "source": [
        "Q3. What is a Web API? Differentiate between API and Web API.\n",
        "\n",
        "Ans:\n",
        "\n",
        "Web API is kind of API that is accessed over the web by means of HTTP. Web API exposes functionality/information from a server to client e.g. Google search engine is like a client that receives input by user through HTTP protocol and returns search results from server.\n",
        "\n",
        "API is generic term and can be created using different protocols such as TCP/IP (within applications and between applications) and HTTP (Hyper Text Transfer Protocol) while webAPI can be created using HTTP protocol specifically. We can say that webAPI is subset of API which follows HTTP protocol."
      ],
      "metadata": {
        "id": "XmAamLz84Jn0"
      }
    },
    {
      "cell_type": "markdown",
      "source": [
        "Q4. Explain REST and SOAP Architecture. Mention shortcomings of SOAP.\n",
        "\n",
        "REST :  REST architecture is used for web based APIs for establishing communication among APIs. In REST architecture we use HTTP protocol methods (GET, POST, PUT, DELETE). REST is simple to use/implement, flexible and scalable (from one user hits to multiple user hits). Further, it is stateless protocol which means server does not store cleint specific information.\n",
        "\n",
        "SOAP : It is XML based protocol. XML is file syatem and a kind of markup language. XML uses WSDL (Web `Service Description Language). SOAP supports HTTP, TCP/IP and SMTP (Simple Mail Transfer Protocol).\n",
        "\n",
        "Key shortcoming of SOAP is that SOAP is complex in terms of implementation.\n",
        "\n"
      ],
      "metadata": {
        "id": "gXuwKUp8712m"
      }
    },
    {
      "cell_type": "markdown",
      "source": [
        "Q5. Differentiate between REST and SOAP.\n",
        "\n",
        "Ans : Key differences between REST and SOAP -\n",
        "\n",
        "1) REST is light and simple whereas SOAP is complex.\n",
        "\n",
        "2) REST uses HTTP protocol whereas SOAP can use HTTP, PCT/IP and SMTP.\n",
        "\n",
        "3) REST can use XML and JSON wheres SOAP uses XML only.\n",
        "\n",
        "4) REST service is stateless that means server does not store client's information. SOAP service is staeful one which which means server can store client's session and information therein."
      ],
      "metadata": {
        "id": "ZdzieeYg77l2"
      }
    },
    {
      "cell_type": "code",
      "source": [],
      "metadata": {
        "id": "_RIfj2reMIsC"
      },
      "execution_count": null,
      "outputs": []
    }
  ]
}