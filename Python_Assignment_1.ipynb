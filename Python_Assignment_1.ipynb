{
  "nbformat": 4,
  "nbformat_minor": 0,
  "metadata": {
    "colab": {
      "provenance": []
    },
    "kernelspec": {
      "name": "python3",
      "display_name": "Python 3"
    },
    "language_info": {
      "name": "python"
    }
  },
  "cells": [
    {
      "cell_type": "markdown",
      "source": [
        "Q1. Which keyword is used to create a function? Create a function to return a list of odd numbers in the\n",
        "range of 1 to 25."
      ],
      "metadata": {
        "id": "RWy65pYA6Y9-"
      }
    },
    {
      "cell_type": "markdown",
      "source": [
        "Ans: 'def' keyword is used to crate a function in python."
      ],
      "metadata": {
        "id": "LO_Yeb0A6yBI"
      }
    },
    {
      "cell_type": "code",
      "source": [
        "def odd(n):\n",
        "  for i in range(1,n+1):\n",
        "    if i % 2 != 0:\n",
        "      print(i)"
      ],
      "metadata": {
        "id": "wJ-NIzhx6fXE"
      },
      "execution_count": 3,
      "outputs": []
    },
    {
      "cell_type": "code",
      "source": [
        "odd(25)"
      ],
      "metadata": {
        "colab": {
          "base_uri": "https://localhost:8080/"
        },
        "id": "gwvSfP_u7gf3",
        "outputId": "b71a73fb-910f-407f-b4bc-31720aaa7048"
      },
      "execution_count": 4,
      "outputs": [
        {
          "output_type": "stream",
          "name": "stdout",
          "text": [
            "1\n",
            "3\n",
            "5\n",
            "7\n",
            "9\n",
            "11\n",
            "13\n",
            "15\n",
            "17\n",
            "19\n",
            "21\n",
            "23\n",
            "25\n"
          ]
        }
      ]
    },
    {
      "cell_type": "markdown",
      "source": [
        "Q2. Why * args and **kwargs is used in some functions? Create a function each for *args and **kwargs\n",
        "to demonstrate their use."
      ],
      "metadata": {
        "id": "dY0Ug8Kr7mlY"
      }
    },
    {
      "cell_type": "markdown",
      "source": [
        "Ans : *args and *kwargs are special arguments in functions that take unlimited number of arguments.\n",
        "*args takes simple arguments as individual items while *kwrgs takes key-value type arguments as dictionary."
      ],
      "metadata": {
        "id": "0FArCZBA74zS"
      }
    },
    {
      "cell_type": "markdown",
      "source": [
        "Example *args: A new resturant is opened and the owner is not sure of different items he would serve in the future."
      ],
      "metadata": {
        "id": "s4mlzq3H8kV8"
      }
    },
    {
      "cell_type": "code",
      "source": [
        "def restaurant_menu(*args):\n",
        "  return args"
      ],
      "metadata": {
        "id": "u_0yPZw-8jI1"
      },
      "execution_count": 5,
      "outputs": []
    },
    {
      "cell_type": "code",
      "source": [
        "restaurant_menu(\"chapati\", \"tadka\", \"salad\")"
      ],
      "metadata": {
        "colab": {
          "base_uri": "https://localhost:8080/"
        },
        "id": "u0oys3_Y74UJ",
        "outputId": "8d9497f0-01c1-4882-d69a-ac1d0c4a739b"
      },
      "execution_count": 6,
      "outputs": [
        {
          "output_type": "execute_result",
          "data": {
            "text/plain": [
              "('chapati', 'tadka', 'salad')"
            ]
          },
          "metadata": {},
          "execution_count": 6
        }
      ]
    },
    {
      "cell_type": "markdown",
      "source": [
        "Example *kwrgs: Same resturant owner wants to store the price of non-limited number of menus."
      ],
      "metadata": {
        "id": "FcyK3KfD9GYA"
      }
    },
    {
      "cell_type": "code",
      "source": [
        "def restaurant_menu_price(**kwrgs):\n",
        "  return kwrgs"
      ],
      "metadata": {
        "id": "ioTyXkJH732q"
      },
      "execution_count": 11,
      "outputs": []
    },
    {
      "cell_type": "code",
      "source": [
        "restaurant_menu_price(chapati = 5, tadka = 250, salad = 25)"
      ],
      "metadata": {
        "colab": {
          "base_uri": "https://localhost:8080/"
        },
        "id": "ijqA9Q7M7xNY",
        "outputId": "f40bb252-29f1-4278-d1a5-75af8a0c5ce1"
      },
      "execution_count": 12,
      "outputs": [
        {
          "output_type": "execute_result",
          "data": {
            "text/plain": [
              "{'chapati': 5, 'tadka': 250, 'salad': 25}"
            ]
          },
          "metadata": {},
          "execution_count": 12
        }
      ]
    },
    {
      "cell_type": "markdown",
      "source": [
        "Q3. What is an iterator in python? Name the method used to initialise the iterator object and the method\n",
        "used for iteration. Use these methods to print the first five elements of the given list [2, 4, 6, 8, 10, 12, 14,\n",
        "16, 18, 20]."
      ],
      "metadata": {
        "id": "1KUanIVM-T7A"
      }
    },
    {
      "cell_type": "markdown",
      "source": [
        "Ans: Iterator in python are objects which can be iterated over again and again to give individual elements they're holding.\n",
        "\n",
        "Iter method is used to initialize the iterator object and next method is used for iteration in order to give elements."
      ],
      "metadata": {
        "id": "7XGs5-bI-Y4Z"
      }
    },
    {
      "cell_type": "code",
      "source": [
        "l1 = [2, 4, 6, 8, 10, 12, 14, 16, 18, 20] #list l1 is iterable"
      ],
      "metadata": {
        "id": "lBVLVsir7rvI"
      },
      "execution_count": 13,
      "outputs": []
    },
    {
      "cell_type": "code",
      "source": [
        "l1 = iter(l1) # now list l1 has become an iterator object"
      ],
      "metadata": {
        "id": "l4p2N93o7qmn"
      },
      "execution_count": 15,
      "outputs": []
    },
    {
      "cell_type": "code",
      "source": [
        "next(l1)"
      ],
      "metadata": {
        "colab": {
          "base_uri": "https://localhost:8080/"
        },
        "id": "u4LXYnJZ_Kuc",
        "outputId": "f77a35f7-7c9d-4705-8587-863160d5a0f8"
      },
      "execution_count": 16,
      "outputs": [
        {
          "output_type": "execute_result",
          "data": {
            "text/plain": [
              "2"
            ]
          },
          "metadata": {},
          "execution_count": 16
        }
      ]
    },
    {
      "cell_type": "code",
      "source": [
        "next(l1)"
      ],
      "metadata": {
        "colab": {
          "base_uri": "https://localhost:8080/"
        },
        "id": "nt_1M-jW_N-t",
        "outputId": "15fa1212-0315-4196-c40b-3f4c2159f9e8"
      },
      "execution_count": 17,
      "outputs": [
        {
          "output_type": "execute_result",
          "data": {
            "text/plain": [
              "4"
            ]
          },
          "metadata": {},
          "execution_count": 17
        }
      ]
    },
    {
      "cell_type": "code",
      "source": [
        "next(l1)"
      ],
      "metadata": {
        "colab": {
          "base_uri": "https://localhost:8080/"
        },
        "id": "EjeNLURv_PN9",
        "outputId": "86a7749f-150a-4472-fd1b-69adfef52b8d"
      },
      "execution_count": 18,
      "outputs": [
        {
          "output_type": "execute_result",
          "data": {
            "text/plain": [
              "6"
            ]
          },
          "metadata": {},
          "execution_count": 18
        }
      ]
    },
    {
      "cell_type": "code",
      "source": [
        "next(l1)"
      ],
      "metadata": {
        "colab": {
          "base_uri": "https://localhost:8080/"
        },
        "id": "cgyFwqf5_P-l",
        "outputId": "c9e2955b-76c9-458b-f6c2-6abb7d757d8c"
      },
      "execution_count": 19,
      "outputs": [
        {
          "output_type": "execute_result",
          "data": {
            "text/plain": [
              "8"
            ]
          },
          "metadata": {},
          "execution_count": 19
        }
      ]
    },
    {
      "cell_type": "code",
      "source": [
        "next(l1)"
      ],
      "metadata": {
        "colab": {
          "base_uri": "https://localhost:8080/"
        },
        "id": "ClBEAk70_QTE",
        "outputId": "88a4f254-8016-4bac-90bc-220d2b5c847f"
      },
      "execution_count": 20,
      "outputs": [
        {
          "output_type": "execute_result",
          "data": {
            "text/plain": [
              "10"
            ]
          },
          "metadata": {},
          "execution_count": 20
        }
      ]
    },
    {
      "cell_type": "code",
      "source": [
        "next(l1)"
      ],
      "metadata": {
        "colab": {
          "base_uri": "https://localhost:8080/"
        },
        "id": "j_3D0wPM_QnV",
        "outputId": "a39d9170-2d3b-4dca-93b1-c1d57e5472ae"
      },
      "execution_count": 21,
      "outputs": [
        {
          "output_type": "execute_result",
          "data": {
            "text/plain": [
              "12"
            ]
          },
          "metadata": {},
          "execution_count": 21
        }
      ]
    },
    {
      "cell_type": "code",
      "source": [
        "next(l1)"
      ],
      "metadata": {
        "colab": {
          "base_uri": "https://localhost:8080/"
        },
        "id": "OEi6tLgr_Q4V",
        "outputId": "41f8b2b3-662a-4bf9-a0c5-42b2ef477d97"
      },
      "execution_count": 22,
      "outputs": [
        {
          "output_type": "execute_result",
          "data": {
            "text/plain": [
              "14"
            ]
          },
          "metadata": {},
          "execution_count": 22
        }
      ]
    },
    {
      "cell_type": "code",
      "source": [
        "next(l1)"
      ],
      "metadata": {
        "colab": {
          "base_uri": "https://localhost:8080/"
        },
        "id": "aeTL0_c-_RJN",
        "outputId": "e35f2883-7318-421d-c0ef-ac5a4314c3c5"
      },
      "execution_count": 23,
      "outputs": [
        {
          "output_type": "execute_result",
          "data": {
            "text/plain": [
              "16"
            ]
          },
          "metadata": {},
          "execution_count": 23
        }
      ]
    },
    {
      "cell_type": "code",
      "source": [
        "next(l1)"
      ],
      "metadata": {
        "colab": {
          "base_uri": "https://localhost:8080/"
        },
        "id": "-N22nRAU_Ret",
        "outputId": "c7ab8219-aeab-4618-8921-336556a8766f"
      },
      "execution_count": 24,
      "outputs": [
        {
          "output_type": "execute_result",
          "data": {
            "text/plain": [
              "18"
            ]
          },
          "metadata": {},
          "execution_count": 24
        }
      ]
    },
    {
      "cell_type": "code",
      "source": [
        "next(l1)"
      ],
      "metadata": {
        "colab": {
          "base_uri": "https://localhost:8080/"
        },
        "id": "c82oPm1J_Ub4",
        "outputId": "1a4323ab-d1af-455b-e8a0-d4ed5267542f"
      },
      "execution_count": 25,
      "outputs": [
        {
          "output_type": "execute_result",
          "data": {
            "text/plain": [
              "20"
            ]
          },
          "metadata": {},
          "execution_count": 25
        }
      ]
    },
    {
      "cell_type": "code",
      "source": [
        "next(l1)"
      ],
      "metadata": {
        "colab": {
          "base_uri": "https://localhost:8080/",
          "height": 171
        },
        "id": "tBuNllaW_VYv",
        "outputId": "d11fa6ca-7a83-48c7-c854-132591496f7e"
      },
      "execution_count": 26,
      "outputs": [
        {
          "output_type": "error",
          "ename": "StopIteration",
          "evalue": "ignored",
          "traceback": [
            "\u001b[0;31m---------------------------------------------------------------------------\u001b[0m",
            "\u001b[0;31mStopIteration\u001b[0m                             Traceback (most recent call last)",
            "\u001b[0;32m<ipython-input-26-e7be30fcc165>\u001b[0m in \u001b[0;36m<cell line: 1>\u001b[0;34m()\u001b[0m\n\u001b[0;32m----> 1\u001b[0;31m \u001b[0mnext\u001b[0m\u001b[0;34m(\u001b[0m\u001b[0ml1\u001b[0m\u001b[0;34m)\u001b[0m\u001b[0;34m\u001b[0m\u001b[0;34m\u001b[0m\u001b[0m\n\u001b[0m",
            "\u001b[0;31mStopIteration\u001b[0m: "
          ]
        }
      ]
    },
    {
      "cell_type": "markdown",
      "source": [
        "Q4. What is a generator function in python? Why yield keyword is used? Give an example of a generator\n",
        "function."
      ],
      "metadata": {
        "id": "83YHeUOp_gHS"
      }
    },
    {
      "cell_type": "markdown",
      "source": [
        "Ans: Generator fucntions are those functions that use yield in the iterable loop to generate individual result on the fly i.e. without storing it into the RAM, therefore, saving memory in case of iterable is holding very large number of elements e.g. withdrawal money amount for every transaction from an ATM machine."
      ],
      "metadata": {
        "id": "CMbPIX2N_jfJ"
      }
    },
    {
      "cell_type": "markdown",
      "source": [
        "Q5. Create a generator function for prime numbers less than 1000. Use the next() method to print the\n",
        "first 20 prime numbers."
      ],
      "metadata": {
        "id": "UlPfmyI-AxDS"
      }
    },
    {
      "cell_type": "markdown",
      "source": [
        "Ans:"
      ],
      "metadata": {
        "id": "fXknfS0RJwe_"
      }
    },
    {
      "cell_type": "code",
      "source": [
        "def prime_generator(n):\n",
        "  for i in range (n+1):  \n",
        "    if i >= 2:  \n",
        "        for j in range (2, i):  \n",
        "            if (i % j) == 0:  \n",
        "                break  \n",
        "        else:  \n",
        "            yield i  "
      ],
      "metadata": {
        "id": "VOFblleFAFqD"
      },
      "execution_count": 56,
      "outputs": []
    },
    {
      "cell_type": "code",
      "source": [
        "primes = prime_generator(1000)"
      ],
      "metadata": {
        "id": "qNvxbig9BLOk"
      },
      "execution_count": 58,
      "outputs": []
    },
    {
      "cell_type": "code",
      "source": [
        "next(primes)"
      ],
      "metadata": {
        "colab": {
          "base_uri": "https://localhost:8080/"
        },
        "id": "ROsnbnskJkE-",
        "outputId": "f7954e42-1109-4f56-b88d-2d23b895d231"
      },
      "execution_count": 59,
      "outputs": [
        {
          "output_type": "execute_result",
          "data": {
            "text/plain": [
              "2"
            ]
          },
          "metadata": {},
          "execution_count": 59
        }
      ]
    },
    {
      "cell_type": "code",
      "source": [
        "next(primes)"
      ],
      "metadata": {
        "colab": {
          "base_uri": "https://localhost:8080/"
        },
        "id": "c_7NeVZ8JmPs",
        "outputId": "16142260-9a3d-4617-d875-422f56b7abeb"
      },
      "execution_count": 60,
      "outputs": [
        {
          "output_type": "execute_result",
          "data": {
            "text/plain": [
              "3"
            ]
          },
          "metadata": {},
          "execution_count": 60
        }
      ]
    },
    {
      "cell_type": "code",
      "source": [
        "next(primes)"
      ],
      "metadata": {
        "colab": {
          "base_uri": "https://localhost:8080/"
        },
        "id": "vDeuZH9yJo1M",
        "outputId": "abb7e0fc-3899-482c-eeb5-6072224411c5"
      },
      "execution_count": 61,
      "outputs": [
        {
          "output_type": "execute_result",
          "data": {
            "text/plain": [
              "5"
            ]
          },
          "metadata": {},
          "execution_count": 61
        }
      ]
    },
    {
      "cell_type": "code",
      "source": [
        "next(primes)"
      ],
      "metadata": {
        "colab": {
          "base_uri": "https://localhost:8080/"
        },
        "id": "MUZsPJamJqO1",
        "outputId": "2b6968fc-7745-4827-962a-c76186a5bffb"
      },
      "execution_count": 62,
      "outputs": [
        {
          "output_type": "execute_result",
          "data": {
            "text/plain": [
              "7"
            ]
          },
          "metadata": {},
          "execution_count": 62
        }
      ]
    },
    {
      "cell_type": "code",
      "source": [
        "next(primes)"
      ],
      "metadata": {
        "colab": {
          "base_uri": "https://localhost:8080/"
        },
        "id": "c995wnAUJq70",
        "outputId": "e3d594f4-d401-4ed0-c695-cbc293891b51"
      },
      "execution_count": 63,
      "outputs": [
        {
          "output_type": "execute_result",
          "data": {
            "text/plain": [
              "11"
            ]
          },
          "metadata": {},
          "execution_count": 63
        }
      ]
    },
    {
      "cell_type": "code",
      "source": [
        "next(primes)"
      ],
      "metadata": {
        "colab": {
          "base_uri": "https://localhost:8080/"
        },
        "id": "Zcv3pGj8Jril",
        "outputId": "7304991f-a86c-4913-c403-655385932895"
      },
      "execution_count": 64,
      "outputs": [
        {
          "output_type": "execute_result",
          "data": {
            "text/plain": [
              "13"
            ]
          },
          "metadata": {},
          "execution_count": 64
        }
      ]
    },
    {
      "cell_type": "code",
      "source": [
        "next(primes)"
      ],
      "metadata": {
        "colab": {
          "base_uri": "https://localhost:8080/"
        },
        "id": "x8uz9SSKJsdM",
        "outputId": "97c37d69-4b75-4c6d-e641-978504b3b9e5"
      },
      "execution_count": 65,
      "outputs": [
        {
          "output_type": "execute_result",
          "data": {
            "text/plain": [
              "17"
            ]
          },
          "metadata": {},
          "execution_count": 65
        }
      ]
    },
    {
      "cell_type": "code",
      "source": [
        "next(primes)"
      ],
      "metadata": {
        "colab": {
          "base_uri": "https://localhost:8080/"
        },
        "id": "1DHhNmvvJtEF",
        "outputId": "71e3c683-ae39-4018-c15a-d9f1f57d9cf3"
      },
      "execution_count": 66,
      "outputs": [
        {
          "output_type": "execute_result",
          "data": {
            "text/plain": [
              "19"
            ]
          },
          "metadata": {},
          "execution_count": 66
        }
      ]
    },
    {
      "cell_type": "markdown",
      "source": [
        "Q6. Write a python program to print the first 10 Fibonacci numbers using a while loop."
      ],
      "metadata": {
        "id": "dx55NyUaJyMu"
      }
    },
    {
      "cell_type": "markdown",
      "source": [
        "Ans:"
      ],
      "metadata": {
        "id": "msImwYLhNA-8"
      }
    },
    {
      "cell_type": "code",
      "source": [
        "a, b = 0, 1\n",
        "n = 1\n",
        "while n <= 10:\n",
        "  print(a)\n",
        "  a, b = b, a+b\n",
        "  n += 1"
      ],
      "metadata": {
        "colab": {
          "base_uri": "https://localhost:8080/"
        },
        "id": "JqE2R4JYJtx8",
        "outputId": "e66640e8-c57f-49c2-9e31-f87980a18822"
      },
      "execution_count": 68,
      "outputs": [
        {
          "output_type": "stream",
          "name": "stdout",
          "text": [
            "0\n",
            "1\n",
            "1\n",
            "2\n",
            "3\n",
            "5\n",
            "8\n",
            "13\n",
            "21\n",
            "34\n"
          ]
        }
      ]
    },
    {
      "cell_type": "markdown",
      "source": [
        "Q7. Write a List Comprehension to iterate through the given string: ‘pwskills’.\n",
        "Expected output: ['p', 'w', 's', 'k', 'i', 'l', 'l', 's']"
      ],
      "metadata": {
        "id": "sgZrxo_6NF9u"
      }
    },
    {
      "cell_type": "markdown",
      "source": [
        "Ans:"
      ],
      "metadata": {
        "id": "QLonxetTNJkA"
      }
    },
    {
      "cell_type": "code",
      "source": [
        "[i for i in 'pwskills']"
      ],
      "metadata": {
        "colab": {
          "base_uri": "https://localhost:8080/"
        },
        "id": "r3Ys5vJUM8Eb",
        "outputId": "ec539ecb-9714-4249-b178-688fcb4b703a"
      },
      "execution_count": 72,
      "outputs": [
        {
          "output_type": "execute_result",
          "data": {
            "text/plain": [
              "['p', 'w', 's', 'k', 'i', 'l', 'l', 's']"
            ]
          },
          "metadata": {},
          "execution_count": 72
        }
      ]
    },
    {
      "cell_type": "markdown",
      "source": [
        "Q8. Write a python program to check whether a given number is Palindrome or not using a while loop."
      ],
      "metadata": {
        "id": "mGCEzlfCNxVI"
      }
    },
    {
      "cell_type": "markdown",
      "source": [
        "Ans:  Could not think in terms of While loop ! Suggest the simplest solution in while loop. Thanks"
      ],
      "metadata": {
        "id": "qvQgAUnoTDSb"
      }
    },
    {
      "cell_type": "code",
      "source": [
        "def palin(n):\n",
        "    n =str(n)\n",
        "    if n == n[::-1]:\n",
        "      print(f'The number {n} is a palindrome')\n",
        "    else:\n",
        "      print(f'The number {n} is not a palindrome')"
      ],
      "metadata": {
        "id": "dQs8WP32O__p"
      },
      "execution_count": 83,
      "outputs": []
    },
    {
      "cell_type": "code",
      "source": [
        "palin(101)"
      ],
      "metadata": {
        "colab": {
          "base_uri": "https://localhost:8080/"
        },
        "id": "UKPI6RtoQM3A",
        "outputId": "bdd58755-553b-499d-a222-60e3f73a0fcf"
      },
      "execution_count": 84,
      "outputs": [
        {
          "output_type": "stream",
          "name": "stdout",
          "text": [
            "The number 101 is a palindrome\n"
          ]
        }
      ]
    },
    {
      "cell_type": "code",
      "source": [
        "palin(100)"
      ],
      "metadata": {
        "colab": {
          "base_uri": "https://localhost:8080/"
        },
        "id": "kpxU36WHS3CZ",
        "outputId": "56f57021-bdb0-4460-933a-e4aae3515427"
      },
      "execution_count": 85,
      "outputs": [
        {
          "output_type": "stream",
          "name": "stdout",
          "text": [
            "The number 100 is not a palindrome\n"
          ]
        }
      ]
    },
    {
      "cell_type": "markdown",
      "source": [
        "Q9. Write a code to print odd numbers from 1 to 100 using list comprehension.\n",
        "Note: Use a list comprehension to create a list from 1 to 100 and use another List comprehension to filter\n",
        "out odd numbers."
      ],
      "metadata": {
        "id": "07MeG1GwTY5F"
      }
    },
    {
      "cell_type": "code",
      "source": [
        "list_100 = [ i for i in range(101)]"
      ],
      "metadata": {
        "id": "a0pJqXxkTiYO"
      },
      "execution_count": 86,
      "outputs": []
    },
    {
      "cell_type": "code",
      "source": [
        "list_100"
      ],
      "metadata": {
        "id": "NiPgPkG-TiIm"
      },
      "execution_count": null,
      "outputs": []
    },
    {
      "cell_type": "markdown",
      "source": [],
      "metadata": {
        "id": "kaWbTTc9TbHG"
      }
    },
    {
      "cell_type": "code",
      "source": [
        "list(filter(lambda x : x % 2 != 0, list_100))"
      ],
      "metadata": {
        "colab": {
          "base_uri": "https://localhost:8080/"
        },
        "id": "S30vMYDeTBfa",
        "outputId": "45903c17-d4fd-4a45-f6e8-76ff5a66b28d"
      },
      "execution_count": 89,
      "outputs": [
        {
          "output_type": "execute_result",
          "data": {
            "text/plain": [
              "[1,\n",
              " 3,\n",
              " 5,\n",
              " 7,\n",
              " 9,\n",
              " 11,\n",
              " 13,\n",
              " 15,\n",
              " 17,\n",
              " 19,\n",
              " 21,\n",
              " 23,\n",
              " 25,\n",
              " 27,\n",
              " 29,\n",
              " 31,\n",
              " 33,\n",
              " 35,\n",
              " 37,\n",
              " 39,\n",
              " 41,\n",
              " 43,\n",
              " 45,\n",
              " 47,\n",
              " 49,\n",
              " 51,\n",
              " 53,\n",
              " 55,\n",
              " 57,\n",
              " 59,\n",
              " 61,\n",
              " 63,\n",
              " 65,\n",
              " 67,\n",
              " 69,\n",
              " 71,\n",
              " 73,\n",
              " 75,\n",
              " 77,\n",
              " 79,\n",
              " 81,\n",
              " 83,\n",
              " 85,\n",
              " 87,\n",
              " 89,\n",
              " 91,\n",
              " 93,\n",
              " 95,\n",
              " 97,\n",
              " 99]"
            ]
          },
          "metadata": {},
          "execution_count": 89
        }
      ]
    },
    {
      "cell_type": "code",
      "source": [],
      "metadata": {
        "id": "LJSooPBiT8K_"
      },
      "execution_count": null,
      "outputs": []
    }
  ]
}