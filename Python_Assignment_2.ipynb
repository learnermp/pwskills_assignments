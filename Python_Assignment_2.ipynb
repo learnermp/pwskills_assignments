{
  "nbformat": 4,
  "nbformat_minor": 0,
  "metadata": {
    "colab": {
      "provenance": []
    },
    "kernelspec": {
      "name": "python3",
      "display_name": "Python 3"
    },
    "language_info": {
      "name": "python"
    }
  },
  "cells": [
    {
      "cell_type": "markdown",
      "source": [
        "Q1. Create a python program to sort the given list of tuples based on integer value using a\n",
        "lambda function.\n",
        "[('Sachin Tendulkar', 34357), ('Ricky Ponting', 27483), ('Jack Kallis', 25534), ('Virat Kohli', 24936)]"
      ],
      "metadata": {
        "id": "96d2XcoXu4Mu"
      }
    },
    {
      "cell_type": "code",
      "source": [
        "# Could not solve this. Please suggest the logic."
      ],
      "metadata": {
        "id": "cJggVqe33g7o"
      },
      "execution_count": 39,
      "outputs": []
    },
    {
      "cell_type": "code",
      "execution_count": 20,
      "metadata": {
        "colab": {
          "base_uri": "https://localhost:8080/",
          "height": 207
        },
        "id": "qCEPOZscu21E",
        "outputId": "f301f00b-7cdc-40ae-fdd4-7a85b167baa4"
      },
      "outputs": [
        {
          "output_type": "error",
          "ename": "TypeError",
          "evalue": "ignored",
          "traceback": [
            "\u001b[0;31m---------------------------------------------------------------------------\u001b[0m",
            "\u001b[0;31mTypeError\u001b[0m                                 Traceback (most recent call last)",
            "\u001b[0;32m<ipython-input-20-7278850c0aeb>\u001b[0m in \u001b[0;36m<cell line: 3>\u001b[0;34m()\u001b[0m\n\u001b[1;32m      1\u001b[0m \u001b[0ml\u001b[0m \u001b[0;34m=\u001b[0m \u001b[0;34m[\u001b[0m\u001b[0;34m(\u001b[0m\u001b[0;34m'Sachin Tendulkar'\u001b[0m\u001b[0;34m,\u001b[0m \u001b[0;36m34357\u001b[0m\u001b[0;34m)\u001b[0m\u001b[0;34m,\u001b[0m \u001b[0;34m(\u001b[0m\u001b[0;34m'Ricky Ponting'\u001b[0m\u001b[0;34m,\u001b[0m \u001b[0;36m27483\u001b[0m\u001b[0;34m)\u001b[0m\u001b[0;34m,\u001b[0m \u001b[0;34m(\u001b[0m\u001b[0;34m'Jack Kallis'\u001b[0m\u001b[0;34m,\u001b[0m \u001b[0;36m25534\u001b[0m\u001b[0;34m)\u001b[0m\u001b[0;34m,\u001b[0m \u001b[0;34m(\u001b[0m\u001b[0;34m'Virat Kohli'\u001b[0m\u001b[0;34m,\u001b[0m \u001b[0;36m24936\u001b[0m\u001b[0;34m)\u001b[0m\u001b[0;34m]\u001b[0m\u001b[0;34m\u001b[0m\u001b[0;34m\u001b[0m\u001b[0m\n\u001b[1;32m      2\u001b[0m \u001b[0;34m\u001b[0m\u001b[0m\n\u001b[0;32m----> 3\u001b[0;31m \u001b[0mlist\u001b[0m\u001b[0;34m(\u001b[0m\u001b[0mmap\u001b[0m\u001b[0;34m(\u001b[0m\u001b[0;32mlambda\u001b[0m \u001b[0mx\u001b[0m\u001b[0;34m,\u001b[0m \u001b[0my\u001b[0m\u001b[0;34m:\u001b[0m \u001b[0mx\u001b[0m\u001b[0;34m>\u001b[0m\u001b[0my\u001b[0m\u001b[0;34m,\u001b[0m \u001b[0ml\u001b[0m\u001b[0;34m)\u001b[0m\u001b[0;34m)\u001b[0m\u001b[0;34m\u001b[0m\u001b[0;34m\u001b[0m\u001b[0m\n\u001b[0m",
            "\u001b[0;31mTypeError\u001b[0m: <lambda>() missing 1 required positional argument: 'y'"
          ]
        }
      ],
      "source": [
        "l = [('Sachin Tendulkar', 34357), ('Ricky Ponting', 27483), ('Jack Kallis', 25534), ('Virat Kohli', 24936)]"
      ]
    },
    {
      "cell_type": "markdown",
      "source": [
        "Q2. Write a Python Program to find the squares of all the numbers in the given list of integers using\n",
        "lambda and map functions.\n",
        "[1, 2, 3, 4, 5, 6, 7, 8, 9, 10]"
      ],
      "metadata": {
        "id": "Vk9a2Ddj0her"
      }
    },
    {
      "cell_type": "markdown",
      "source": [
        "Ans:"
      ],
      "metadata": {
        "id": "onT0V0cZ0jOL"
      }
    },
    {
      "cell_type": "code",
      "source": [
        "list(map(lambda x: x**2, [1, 2, 3, 4, 5, 6, 7, 8, 9, 10] ))"
      ],
      "metadata": {
        "colab": {
          "base_uri": "https://localhost:8080/"
        },
        "id": "vX97GMzRzxn0",
        "outputId": "7c6edc11-3a23-4608-fb7e-18051bc4b756"
      },
      "execution_count": 21,
      "outputs": [
        {
          "output_type": "execute_result",
          "data": {
            "text/plain": [
              "[1, 4, 9, 16, 25, 36, 49, 64, 81, 100]"
            ]
          },
          "metadata": {},
          "execution_count": 21
        }
      ]
    },
    {
      "cell_type": "markdown",
      "source": [
        "Q3. Write a python program to convert the given list of integers into a tuple of strings. Use map and\n",
        "lambda functions\n",
        "Given String: [1, 2, 3, 4, 5, 6, 7, 8, 9, 10]\n",
        "Expected output: ('1', '2', '3', '4', '5', '6', '7', '8', '9', '10')"
      ],
      "metadata": {
        "id": "tePnXMk3011-"
      }
    },
    {
      "cell_type": "markdown",
      "source": [
        "Ans:"
      ],
      "metadata": {
        "id": "UUVK-3Bw2O7W"
      }
    },
    {
      "cell_type": "code",
      "source": [
        "tuple(map(lambda x: str(x), [1, 2, 3, 4, 5, 6, 7, 8, 9, 10] ))"
      ],
      "metadata": {
        "colab": {
          "base_uri": "https://localhost:8080/"
        },
        "id": "5m9MfOBC0zJU",
        "outputId": "c0d6f4d9-bcbc-4996-a7b6-a74f5032e2d1"
      },
      "execution_count": 24,
      "outputs": [
        {
          "output_type": "execute_result",
          "data": {
            "text/plain": [
              "('1', '2', '3', '4', '5', '6', '7', '8', '9', '10')"
            ]
          },
          "metadata": {},
          "execution_count": 24
        }
      ]
    },
    {
      "cell_type": "markdown",
      "source": [
        "Q4. Write a python program using reduce function to compute the product of a list containing numbers\n",
        "from 1 to 25."
      ],
      "metadata": {
        "id": "PRh6QSiV1OTP"
      }
    },
    {
      "cell_type": "markdown",
      "source": [
        "Ans:"
      ],
      "metadata": {
        "id": "6O5Wmc1n2QCG"
      }
    },
    {
      "cell_type": "code",
      "source": [
        "l = list(range(1,26))\n",
        "from functools import reduce\n",
        "reduce(lambda x, y: x * y, l)"
      ],
      "metadata": {
        "colab": {
          "base_uri": "https://localhost:8080/"
        },
        "id": "7bubsRtT1CY9",
        "outputId": "ac178383-9bf5-45f3-f8e1-38d9db473202"
      },
      "execution_count": 35,
      "outputs": [
        {
          "output_type": "execute_result",
          "data": {
            "text/plain": [
              "15511210043330985984000000"
            ]
          },
          "metadata": {},
          "execution_count": 35
        }
      ]
    },
    {
      "cell_type": "markdown",
      "source": [
        "Q5. Write a python program to filter the numbers in a given list that are divisible by 2 and 3 using the\n",
        "filter function.\n",
        "[2, 3, 6, 9, 27, 60, 90, 120, 55, 46]"
      ],
      "metadata": {
        "id": "PUPUSOXU2Rl-"
      }
    },
    {
      "cell_type": "markdown",
      "source": [
        "Ans:"
      ],
      "metadata": {
        "id": "bGMN1_5K2Vne"
      }
    },
    {
      "cell_type": "code",
      "source": [
        "list(filter(lambda x: x % 2 == 0 and x % 3 == 0, [2, 3, 6, 9, 27, 60, 90, 120, 55, 46]))"
      ],
      "metadata": {
        "colab": {
          "base_uri": "https://localhost:8080/"
        },
        "id": "V92R9b3G1XkP",
        "outputId": "38c96465-1920-4533-cffe-d24028122c11"
      },
      "execution_count": 36,
      "outputs": [
        {
          "output_type": "execute_result",
          "data": {
            "text/plain": [
              "[6, 60, 90, 120]"
            ]
          },
          "metadata": {},
          "execution_count": 36
        }
      ]
    },
    {
      "cell_type": "markdown",
      "source": [
        "Q6. Write a python program to find palindromes in the given list of strings using lambda and filter\n",
        "function.\n",
        "['python', 'php', 'aba', 'radar', 'level']"
      ],
      "metadata": {
        "id": "wN1G6QRo22hC"
      }
    },
    {
      "cell_type": "markdown",
      "source": [
        "Ans:"
      ],
      "metadata": {
        "id": "aDLxsbld23vy"
      }
    },
    {
      "cell_type": "code",
      "source": [
        "list(filter(lambda x: x == x[::-1],  ['python', 'php', 'aba', 'radar', 'level']))"
      ],
      "metadata": {
        "colab": {
          "base_uri": "https://localhost:8080/"
        },
        "id": "ddKeXXpA23HT",
        "outputId": "fb8b8e69-087b-444f-bd2c-6c47d7821494"
      },
      "execution_count": 38,
      "outputs": [
        {
          "output_type": "execute_result",
          "data": {
            "text/plain": [
              "['php', 'aba', 'radar', 'level']"
            ]
          },
          "metadata": {},
          "execution_count": 38
        }
      ]
    }
  ]
}