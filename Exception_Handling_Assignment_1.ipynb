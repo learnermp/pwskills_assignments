{
  "nbformat": 4,
  "nbformat_minor": 0,
  "metadata": {
    "colab": {
      "provenance": []
    },
    "kernelspec": {
      "name": "python3",
      "display_name": "Python 3"
    },
    "language_info": {
      "name": "python"
    }
  },
  "cells": [
    {
      "cell_type": "markdown",
      "source": [
        "Q1. What is an Exception in python? Write the difference between Exceptions and syntax errors."
      ],
      "metadata": {
        "id": "Fg4jQdpnByf3"
      }
    },
    {
      "cell_type": "markdown",
      "source": [
        "Ans:\n",
        "\n",
        "Exception in python refers to error arising during the execution of a python code/program e.g. DivisionByZero. This exception coming in a program breaks the normal flow of the program.\n",
        "\n",
        "Difference between exceptions and syntax errors:\n",
        "\n",
        "1) Exceptions arises during the execution of programand iterrupts the flow of set of code while sytax error gets detected by interpretor during parsing itself e.g. missing colon in function, incorrect spelling of keywords etc.\n",
        "\n",
        "\n",
        "2) Exceptions occurs even though syntax is correct.\n",
        "\n",
        "\n",
        "3) Python offers exception hadling mechanism while Sytax errors need to fixed before running a program.\n"
      ],
      "metadata": {
        "id": "rMcMA8WrDUuB"
      }
    },
    {
      "cell_type": "markdown",
      "source": [
        "Q2. What happens when an exception is not handled? Explain with an example."
      ],
      "metadata": {
        "id": "Ak4tVt0HIHYp"
      }
    },
    {
      "cell_type": "markdown",
      "source": [
        "Ans:\n",
        "\n",
        "When exception is not handled in a python program then the program gets interrupted during the execution and we get the location and kind of exception. It is illustrated below with an example:"
      ],
      "metadata": {
        "id": "tP8cB_OpKfCp"
      }
    },
    {
      "cell_type": "code",
      "source": [
        "def check_div(a, b):\n",
        "  return a / b"
      ],
      "metadata": {
        "id": "CUC1fCJrLCtV"
      },
      "execution_count": 10,
      "outputs": []
    },
    {
      "cell_type": "markdown",
      "source": [
        "Above program is correct sytactically"
      ],
      "metadata": {
        "id": "XSLZZwgVQLlI"
      }
    },
    {
      "cell_type": "code",
      "source": [
        "check_div(5, 0)"
      ],
      "metadata": {
        "colab": {
          "base_uri": "https://localhost:8080/",
          "height": 243
        },
        "id": "naWLpCrsQRRh",
        "outputId": "13181822-f8f4-4c47-df94-2c63698eb3cd"
      },
      "execution_count": 11,
      "outputs": [
        {
          "output_type": "error",
          "ename": "ZeroDivisionError",
          "evalue": "ignored",
          "traceback": [
            "\u001b[0;31m---------------------------------------------------------------------------\u001b[0m",
            "\u001b[0;31mZeroDivisionError\u001b[0m                         Traceback (most recent call last)",
            "\u001b[0;32m<ipython-input-11-895ac8a7def2>\u001b[0m in \u001b[0;36m<cell line: 1>\u001b[0;34m()\u001b[0m\n\u001b[0;32m----> 1\u001b[0;31m \u001b[0mcheck_div\u001b[0m\u001b[0;34m(\u001b[0m\u001b[0;36m5\u001b[0m\u001b[0;34m,\u001b[0m \u001b[0;36m0\u001b[0m\u001b[0;34m)\u001b[0m\u001b[0;34m\u001b[0m\u001b[0;34m\u001b[0m\u001b[0m\n\u001b[0m",
            "\u001b[0;32m<ipython-input-10-dbdbd97391ae>\u001b[0m in \u001b[0;36mcheck_div\u001b[0;34m(a, b)\u001b[0m\n\u001b[1;32m      1\u001b[0m \u001b[0;32mdef\u001b[0m \u001b[0mcheck_div\u001b[0m\u001b[0;34m(\u001b[0m\u001b[0ma\u001b[0m\u001b[0;34m,\u001b[0m \u001b[0mb\u001b[0m\u001b[0;34m)\u001b[0m\u001b[0;34m:\u001b[0m\u001b[0;34m\u001b[0m\u001b[0;34m\u001b[0m\u001b[0m\n\u001b[0;32m----> 2\u001b[0;31m   \u001b[0;32mreturn\u001b[0m \u001b[0ma\u001b[0m \u001b[0;34m/\u001b[0m \u001b[0mb\u001b[0m\u001b[0;34m\u001b[0m\u001b[0;34m\u001b[0m\u001b[0m\n\u001b[0m",
            "\u001b[0;31mZeroDivisionError\u001b[0m: division by zero"
          ]
        }
      ]
    },
    {
      "cell_type": "markdown",
      "source": [
        "Here, we get exception ZeroDivisionError as we are trying to divide an integer by zero. Also, the error is being tracebacked with arrow symbols."
      ],
      "metadata": {
        "id": "DHi_QS5XQXI7"
      }
    },
    {
      "cell_type": "markdown",
      "source": [
        "Q3. Which Python statements are used to catch and handle exceptions? Explain with an example."
      ],
      "metadata": {
        "id": "Calf7iXySMVO"
      }
    },
    {
      "cell_type": "markdown",
      "source": [
        "Ans:\n",
        "\n",
        "try-except blocks are used to handle exceptions. Under the 'try' block we put the code that we want to execute or want to test and with the except block we write the kind of exception we can speculate during the execution of code under 'try'. Example -"
      ],
      "metadata": {
        "id": "jjPN2hgWSP3u"
      }
    },
    {
      "cell_type": "code",
      "source": [
        "def check_div(a, b):\n",
        "  try:\n",
        "    return a / b\n",
        "  except ZeroDivisionError:\n",
        "    print(\"ZeroDivisionError\")"
      ],
      "metadata": {
        "id": "fD9xCqoHQwRl"
      },
      "execution_count": 12,
      "outputs": []
    },
    {
      "cell_type": "code",
      "source": [
        "check_div(5, 0)"
      ],
      "metadata": {
        "colab": {
          "base_uri": "https://localhost:8080/"
        },
        "id": "qyy1r3c2Q8Du",
        "outputId": "367a3741-43a5-418a-fd5c-31c446267742"
      },
      "execution_count": 14,
      "outputs": [
        {
          "output_type": "stream",
          "name": "stdout",
          "text": [
            "ZeroDivisionError\n"
          ]
        }
      ]
    },
    {
      "cell_type": "markdown",
      "source": [
        "If we are not sure about the kind of exception then we can write generic word 'Exception' and later handles any exception e.g."
      ],
      "metadata": {
        "id": "RXmiR2ZeThP-"
      }
    },
    {
      "cell_type": "code",
      "source": [
        "def check_div(a, b):\n",
        "  try:\n",
        "    return a / b\n",
        "  except Exception as e:\n",
        "    print(e)"
      ],
      "metadata": {
        "id": "6iKD80Z7TgfX"
      },
      "execution_count": 15,
      "outputs": []
    },
    {
      "cell_type": "code",
      "source": [
        "check_div(5, 0)"
      ],
      "metadata": {
        "colab": {
          "base_uri": "https://localhost:8080/"
        },
        "id": "j-JqMIGeT1ZI",
        "outputId": "768b6952-a458-4659-8406-b2ad925eecee"
      },
      "execution_count": 16,
      "outputs": [
        {
          "output_type": "stream",
          "name": "stdout",
          "text": [
            "division by zero\n"
          ]
        }
      ]
    },
    {
      "cell_type": "markdown",
      "source": [
        "Q4. Explain with an example:\n",
        "\n",
        "a. try and else\n",
        "\n",
        "b. finally\n",
        "\n",
        "c. raise"
      ],
      "metadata": {
        "id": "iAktBcqyUAFp"
      }
    },
    {
      "cell_type": "markdown",
      "source": [
        "a) try and else :  else will be executed once the try block gets excecuted without exception."
      ],
      "metadata": {
        "id": "lIzsyKEqXBXe"
      }
    },
    {
      "cell_type": "code",
      "source": [
        "def check_div(a, b):\n",
        "  try:\n",
        "    output = a / b\n",
        "\n",
        "  except Exception as e:\n",
        "    print(\"except block : \", e)\n",
        "\n",
        "  else:\n",
        "    print(\"else block : This will be executed once the try block gets excecuted without exception. The output is \", output )\n"
      ],
      "metadata": {
        "id": "XKwUhXaCUarN"
      },
      "execution_count": 34,
      "outputs": []
    },
    {
      "cell_type": "code",
      "source": [
        "check_div(5, 0)"
      ],
      "metadata": {
        "colab": {
          "base_uri": "https://localhost:8080/"
        },
        "id": "flvunRbmWCVX",
        "outputId": "cdc17564-6445-4533-cf3b-a791f763f796"
      },
      "execution_count": 35,
      "outputs": [
        {
          "output_type": "stream",
          "name": "stdout",
          "text": [
            "except block :  division by zero\n"
          ]
        }
      ]
    },
    {
      "cell_type": "code",
      "source": [
        "check_div(5, 2)"
      ],
      "metadata": {
        "colab": {
          "base_uri": "https://localhost:8080/"
        },
        "id": "Z4vK3WLDWE2_",
        "outputId": "ae043ae7-6a58-4980-c59d-67827dcaf3ff"
      },
      "execution_count": 36,
      "outputs": [
        {
          "output_type": "stream",
          "name": "stdout",
          "text": [
            "else block : This will be executed once the try block gets excecuted without exception. The output is  2.5\n"
          ]
        }
      ]
    },
    {
      "cell_type": "markdown",
      "source": [
        "b) finally : code under finally block gets executed in any situation."
      ],
      "metadata": {
        "id": "GG2Pyu40V_93"
      }
    },
    {
      "cell_type": "code",
      "source": [
        "def check_div(a, b):\n",
        "  try:\n",
        "    output = a / b\n",
        "\n",
        "  except Exception as e:\n",
        "    print(\"except block : \", e)\n",
        "\n",
        "  else:\n",
        "    print(\"else block : This will be executed once the try block gets excecuted without exception. The output is \", output )\n",
        "\n",
        "  finally:\n",
        "    print(\"finally block : Code under finaly block gets executed in any situation\")\n"
      ],
      "metadata": {
        "id": "f90-c6fuXW8x"
      },
      "execution_count": 37,
      "outputs": []
    },
    {
      "cell_type": "code",
      "source": [
        "check_div(5, 0)"
      ],
      "metadata": {
        "colab": {
          "base_uri": "https://localhost:8080/"
        },
        "id": "KyyQWJaDXhpK",
        "outputId": "482c1175-a038-4876-f3f9-32c40dacd74b"
      },
      "execution_count": 38,
      "outputs": [
        {
          "output_type": "stream",
          "name": "stdout",
          "text": [
            "except block :  division by zero\n",
            "finally block : Code under finaly block gets executed in any situation\n"
          ]
        }
      ]
    },
    {
      "cell_type": "code",
      "source": [
        "check_div(5, 2)"
      ],
      "metadata": {
        "colab": {
          "base_uri": "https://localhost:8080/"
        },
        "id": "Ouv_1KmpXmNd",
        "outputId": "3a6e0648-fc02-4046-b8a2-4e68aad0c20d"
      },
      "execution_count": 39,
      "outputs": [
        {
          "output_type": "stream",
          "name": "stdout",
          "text": [
            "else block : This will be executed once the try block gets excecuted without exception. The output is  2.5\n",
            "finally block : Code under finaly block gets executed in any situation\n"
          ]
        }
      ]
    },
    {
      "cell_type": "code",
      "source": [
        "tion"
      ],
      "metadata": {
        "id": "0F5tiwuYfO-c"
      },
      "execution_count": null,
      "outputs": []
    },
    {
      "cell_type": "markdown",
      "source": [
        "c) raise:  raise statement helps in raising the exception by ourselves depending of specific input/situation."
      ],
      "metadata": {
        "id": "SK8bt0QtYT0v"
      }
    },
    {
      "cell_type": "code",
      "source": [
        "def check_div(a, b):\n",
        "    try:\n",
        "        if b == 0:\n",
        "            raise ValueError(\"Cannot divide by zero\")\n",
        "        output = a / b\n",
        "\n",
        "    except Exception as e:\n",
        "        print(\"except block:\", e)"
      ],
      "metadata": {
        "id": "uBOXtE55YCzm"
      },
      "execution_count": 40,
      "outputs": []
    },
    {
      "cell_type": "code",
      "source": [
        "check_div(5, 0)"
      ],
      "metadata": {
        "colab": {
          "base_uri": "https://localhost:8080/"
        },
        "id": "TpdZ5sCEbsAw",
        "outputId": "0e5e36bd-ef4f-4af2-df29-f262c95f7133"
      },
      "execution_count": 41,
      "outputs": [
        {
          "output_type": "stream",
          "name": "stdout",
          "text": [
            "except block: Cannot divide by zero\n"
          ]
        }
      ]
    },
    {
      "cell_type": "markdown",
      "source": [
        "Q5. What are Custom Exceptions in python? Why do we need Custom Exceptions? Explain with an example."
      ],
      "metadata": {
        "id": "QZc0VASkfX2J"
      }
    },
    {
      "cell_type": "markdown",
      "source": [
        "Ans:\n",
        "\n",
        "Custom exceptions are user based customized exception classes that inherits inbuild Exception class in python.\n",
        "\n",
        "We need custom exceptions in order to raise and get hold of exceptions in a our own way e.g. flagging specific exception messagge in our own language.  This is illustrated with an example that has been taught in the online class:"
      ],
      "metadata": {
        "id": "QRwktK1BI4X2"
      }
    },
    {
      "cell_type": "code",
      "source": [
        "class Validage(Exception):\n",
        "  def __init__(self, message):\n",
        "    self.message = message"
      ],
      "metadata": {
        "id": "9cnclmMKhjt2"
      },
      "execution_count": 43,
      "outputs": []
    },
    {
      "cell_type": "markdown",
      "source": [
        "In the abobe code a new exception class Validageage is created which inherits properites of Exception class. Validage age class will be used to generate custom messages as per the situation in below given program:\n"
      ],
      "metadata": {
        "id": "SymV1dCShpGP"
      }
    },
    {
      "cell_type": "code",
      "source": [
        "def validate(age):\n",
        "  if age < 0:\n",
        "    raise Validage(\"Entered age is negative\")\n",
        "  elif age > 100:\n",
        "    raise Validage(\"Entered age is very very high\")\n",
        "  else:\n",
        "    print(\"Age is valid\")"
      ],
      "metadata": {
        "id": "pfNIT0O6iIa5"
      },
      "execution_count": 44,
      "outputs": []
    },
    {
      "cell_type": "code",
      "source": [
        "validate(-10)"
      ],
      "metadata": {
        "colab": {
          "base_uri": "https://localhost:8080/",
          "height": 298
        },
        "id": "FLekkSFHidJc",
        "outputId": "645389f1-dd37-4d92-a9aa-6a8afabe5381"
      },
      "execution_count": 46,
      "outputs": [
        {
          "output_type": "error",
          "ename": "Validage",
          "evalue": "ignored",
          "traceback": [
            "\u001b[0;31m---------------------------------------------------------------------------\u001b[0m",
            "\u001b[0;31mValidage\u001b[0m                                  Traceback (most recent call last)",
            "\u001b[0;32m<ipython-input-46-36022288a2dd>\u001b[0m in \u001b[0;36m<cell line: 1>\u001b[0;34m()\u001b[0m\n\u001b[0;32m----> 1\u001b[0;31m \u001b[0mvalidate\u001b[0m\u001b[0;34m(\u001b[0m\u001b[0;34m-\u001b[0m\u001b[0;36m10\u001b[0m\u001b[0;34m)\u001b[0m\u001b[0;34m\u001b[0m\u001b[0;34m\u001b[0m\u001b[0m\n\u001b[0m",
            "\u001b[0;32m<ipython-input-44-3f8d8c076a19>\u001b[0m in \u001b[0;36mvalidate\u001b[0;34m(age)\u001b[0m\n\u001b[1;32m      1\u001b[0m \u001b[0;32mdef\u001b[0m \u001b[0mvalidate\u001b[0m\u001b[0;34m(\u001b[0m\u001b[0mage\u001b[0m\u001b[0;34m)\u001b[0m\u001b[0;34m:\u001b[0m\u001b[0;34m\u001b[0m\u001b[0;34m\u001b[0m\u001b[0m\n\u001b[1;32m      2\u001b[0m   \u001b[0;32mif\u001b[0m \u001b[0mage\u001b[0m \u001b[0;34m<\u001b[0m \u001b[0;36m0\u001b[0m\u001b[0;34m:\u001b[0m\u001b[0;34m\u001b[0m\u001b[0;34m\u001b[0m\u001b[0m\n\u001b[0;32m----> 3\u001b[0;31m     \u001b[0;32mraise\u001b[0m \u001b[0mValidage\u001b[0m\u001b[0;34m(\u001b[0m\u001b[0;34m\"Entered age is negative\"\u001b[0m\u001b[0;34m)\u001b[0m\u001b[0;34m\u001b[0m\u001b[0;34m\u001b[0m\u001b[0m\n\u001b[0m\u001b[1;32m      4\u001b[0m   \u001b[0;32melif\u001b[0m \u001b[0mage\u001b[0m \u001b[0;34m>\u001b[0m \u001b[0;36m100\u001b[0m\u001b[0;34m:\u001b[0m\u001b[0;34m\u001b[0m\u001b[0;34m\u001b[0m\u001b[0m\n\u001b[1;32m      5\u001b[0m     \u001b[0;32mraise\u001b[0m \u001b[0mValidage\u001b[0m\u001b[0;34m(\u001b[0m\u001b[0;34m\"Entered age is very very high\"\u001b[0m\u001b[0;34m)\u001b[0m\u001b[0;34m\u001b[0m\u001b[0;34m\u001b[0m\u001b[0m\n",
            "\u001b[0;31mValidage\u001b[0m: Entered age is negative"
          ]
        }
      ]
    },
    {
      "cell_type": "code",
      "source": [
        "validate(110)"
      ],
      "metadata": {
        "colab": {
          "base_uri": "https://localhost:8080/",
          "height": 298
        },
        "id": "R79RdVHTinme",
        "outputId": "72e0c08f-c447-4764-b8c3-9e53f3e949ea"
      },
      "execution_count": 47,
      "outputs": [
        {
          "output_type": "error",
          "ename": "Validage",
          "evalue": "ignored",
          "traceback": [
            "\u001b[0;31m---------------------------------------------------------------------------\u001b[0m",
            "\u001b[0;31mValidage\u001b[0m                                  Traceback (most recent call last)",
            "\u001b[0;32m<ipython-input-47-01c72ce6e6a3>\u001b[0m in \u001b[0;36m<cell line: 1>\u001b[0;34m()\u001b[0m\n\u001b[0;32m----> 1\u001b[0;31m \u001b[0mvalidate\u001b[0m\u001b[0;34m(\u001b[0m\u001b[0;36m110\u001b[0m\u001b[0;34m)\u001b[0m\u001b[0;34m\u001b[0m\u001b[0;34m\u001b[0m\u001b[0m\n\u001b[0m",
            "\u001b[0;32m<ipython-input-44-3f8d8c076a19>\u001b[0m in \u001b[0;36mvalidate\u001b[0;34m(age)\u001b[0m\n\u001b[1;32m      3\u001b[0m     \u001b[0;32mraise\u001b[0m \u001b[0mValidage\u001b[0m\u001b[0;34m(\u001b[0m\u001b[0;34m\"Entered age is negative\"\u001b[0m\u001b[0;34m)\u001b[0m\u001b[0;34m\u001b[0m\u001b[0;34m\u001b[0m\u001b[0m\n\u001b[1;32m      4\u001b[0m   \u001b[0;32melif\u001b[0m \u001b[0mage\u001b[0m \u001b[0;34m>\u001b[0m \u001b[0;36m100\u001b[0m\u001b[0;34m:\u001b[0m\u001b[0;34m\u001b[0m\u001b[0;34m\u001b[0m\u001b[0m\n\u001b[0;32m----> 5\u001b[0;31m     \u001b[0;32mraise\u001b[0m \u001b[0mValidage\u001b[0m\u001b[0;34m(\u001b[0m\u001b[0;34m\"Entered age is very very high\"\u001b[0m\u001b[0;34m)\u001b[0m\u001b[0;34m\u001b[0m\u001b[0;34m\u001b[0m\u001b[0m\n\u001b[0m\u001b[1;32m      6\u001b[0m   \u001b[0;32melse\u001b[0m\u001b[0;34m:\u001b[0m\u001b[0;34m\u001b[0m\u001b[0;34m\u001b[0m\u001b[0m\n\u001b[1;32m      7\u001b[0m     \u001b[0mprint\u001b[0m\u001b[0;34m(\u001b[0m\u001b[0;34m\"Age is valid\"\u001b[0m\u001b[0;34m)\u001b[0m\u001b[0;34m\u001b[0m\u001b[0;34m\u001b[0m\u001b[0m\n",
            "\u001b[0;31mValidage\u001b[0m: Entered age is very very high"
          ]
        }
      ]
    },
    {
      "cell_type": "code",
      "source": [
        "validate(70)"
      ],
      "metadata": {
        "colab": {
          "base_uri": "https://localhost:8080/"
        },
        "id": "2ZdXdQZHiqsN",
        "outputId": "02c2de35-7baf-46b5-9a64-a17159b76d3e"
      },
      "execution_count": 48,
      "outputs": [
        {
          "output_type": "stream",
          "name": "stdout",
          "text": [
            "Age is valid\n"
          ]
        }
      ]
    },
    {
      "cell_type": "markdown",
      "source": [
        "Q6. Create a custom exception class. Use this class to handle an exception."
      ],
      "metadata": {
        "id": "x37LIJpajVb6"
      }
    },
    {
      "cell_type": "markdown",
      "source": [
        "Ans:\n",
        "\n"
      ],
      "metadata": {
        "id": "riggbNrpjicL"
      }
    },
    {
      "cell_type": "code",
      "source": [
        "class Validinput(Exception):\n",
        "  def __init__(self, message):\n",
        "    self.message = message"
      ],
      "metadata": {
        "id": "7Ky_xCHuini2"
      },
      "execution_count": 53,
      "outputs": []
    },
    {
      "cell_type": "code",
      "source": [
        "def div_check(a, b):\n",
        "  if b == 0:\n",
        "    raise Validinput(\"The number in numerator is Zero and it gave DivisionByZero exception\")\n",
        "  else:\n",
        "    return a / b"
      ],
      "metadata": {
        "id": "bY6soosrinfF"
      },
      "execution_count": 55,
      "outputs": []
    },
    {
      "cell_type": "code",
      "source": [
        "div_check(5, 0)"
      ],
      "metadata": {
        "colab": {
          "base_uri": "https://localhost:8080/",
          "height": 298
        },
        "id": "Z6sT7AeOjoWD",
        "outputId": "890c95c5-abda-4ee8-d49a-b64adeda0382"
      },
      "execution_count": 56,
      "outputs": [
        {
          "output_type": "error",
          "ename": "Validinput",
          "evalue": "ignored",
          "traceback": [
            "\u001b[0;31m---------------------------------------------------------------------------\u001b[0m",
            "\u001b[0;31mValidinput\u001b[0m                                Traceback (most recent call last)",
            "\u001b[0;32m<ipython-input-56-a47daa4ae3bc>\u001b[0m in \u001b[0;36m<cell line: 1>\u001b[0;34m()\u001b[0m\n\u001b[0;32m----> 1\u001b[0;31m \u001b[0mdiv_check\u001b[0m\u001b[0;34m(\u001b[0m\u001b[0;36m5\u001b[0m\u001b[0;34m,\u001b[0m \u001b[0;36m0\u001b[0m\u001b[0;34m)\u001b[0m\u001b[0;34m\u001b[0m\u001b[0;34m\u001b[0m\u001b[0m\n\u001b[0m",
            "\u001b[0;32m<ipython-input-55-9ba48dbd1e51>\u001b[0m in \u001b[0;36mdiv_check\u001b[0;34m(a, b)\u001b[0m\n\u001b[1;32m      1\u001b[0m \u001b[0;32mdef\u001b[0m \u001b[0mdiv_check\u001b[0m\u001b[0;34m(\u001b[0m\u001b[0ma\u001b[0m\u001b[0;34m,\u001b[0m \u001b[0mb\u001b[0m\u001b[0;34m)\u001b[0m\u001b[0;34m:\u001b[0m\u001b[0;34m\u001b[0m\u001b[0;34m\u001b[0m\u001b[0m\n\u001b[1;32m      2\u001b[0m   \u001b[0;32mif\u001b[0m \u001b[0mb\u001b[0m \u001b[0;34m==\u001b[0m \u001b[0;36m0\u001b[0m\u001b[0;34m:\u001b[0m\u001b[0;34m\u001b[0m\u001b[0;34m\u001b[0m\u001b[0m\n\u001b[0;32m----> 3\u001b[0;31m     \u001b[0;32mraise\u001b[0m \u001b[0mValidinput\u001b[0m\u001b[0;34m(\u001b[0m\u001b[0;34m\"The number in numerator is Zero and it gave DivisionByZero exception\"\u001b[0m\u001b[0;34m)\u001b[0m\u001b[0;34m\u001b[0m\u001b[0;34m\u001b[0m\u001b[0m\n\u001b[0m\u001b[1;32m      4\u001b[0m   \u001b[0;32melse\u001b[0m\u001b[0;34m:\u001b[0m\u001b[0;34m\u001b[0m\u001b[0;34m\u001b[0m\u001b[0m\n\u001b[1;32m      5\u001b[0m     \u001b[0;32mreturn\u001b[0m \u001b[0ma\u001b[0m \u001b[0;34m/\u001b[0m \u001b[0mb\u001b[0m\u001b[0;34m\u001b[0m\u001b[0;34m\u001b[0m\u001b[0m\n",
            "\u001b[0;31mValidinput\u001b[0m: The number in numerator is Zero and it gave DivisionByZero exception"
          ]
        }
      ]
    },
    {
      "cell_type": "markdown",
      "source": [
        "# Rough Work Below:"
      ],
      "metadata": {
        "id": "gZ3tgsxKkl9V"
      }
    },
    {
      "cell_type": "code",
      "source": [
        "! pip install pdfplumber"
      ],
      "metadata": {
        "colab": {
          "base_uri": "https://localhost:8080/",
          "height": 524
        },
        "id": "1X1julYsIG1h",
        "outputId": "a0269566-638e-4420-b060-ed5d3909486c"
      },
      "execution_count": 1,
      "outputs": [
        {
          "output_type": "stream",
          "name": "stdout",
          "text": [
            "Looking in indexes: https://pypi.org/simple, https://us-python.pkg.dev/colab-wheels/public/simple/\n",
            "Collecting pdfplumber\n",
            "  Downloading pdfplumber-0.9.0-py3-none-any.whl (46 kB)\n",
            "\u001b[2K     \u001b[90m━━━━━━━━━━━━━━━━━━━━━━━━━━━━━━━━━━━━━━━━\u001b[0m \u001b[32m46.1/46.1 kB\u001b[0m \u001b[31m3.8 MB/s\u001b[0m eta \u001b[36m0:00:00\u001b[0m\n",
            "\u001b[?25hCollecting pdfminer.six==20221105 (from pdfplumber)\n",
            "  Downloading pdfminer.six-20221105-py3-none-any.whl (5.6 MB)\n",
            "\u001b[2K     \u001b[90m━━━━━━━━━━━━━━━━━━━━━━━━━━━━━━━━━━━━━━━━\u001b[0m \u001b[32m5.6/5.6 MB\u001b[0m \u001b[31m56.2 MB/s\u001b[0m eta \u001b[36m0:00:00\u001b[0m\n",
            "\u001b[?25hCollecting Pillow>=9.1 (from pdfplumber)\n",
            "  Downloading Pillow-9.5.0-cp310-cp310-manylinux_2_28_x86_64.whl (3.4 MB)\n",
            "\u001b[2K     \u001b[90m━━━━━━━━━━━━━━━━━━━━━━━━━━━━━━━━━━━━━━━━\u001b[0m \u001b[32m3.4/3.4 MB\u001b[0m \u001b[31m90.5 MB/s\u001b[0m eta \u001b[36m0:00:00\u001b[0m\n",
            "\u001b[?25hCollecting Wand>=0.6.10 (from pdfplumber)\n",
            "  Downloading Wand-0.6.11-py2.py3-none-any.whl (143 kB)\n",
            "\u001b[2K     \u001b[90m━━━━━━━━━━━━━━━━━━━━━━━━━━━━━━━━━━━━━━\u001b[0m \u001b[32m143.6/143.6 kB\u001b[0m \u001b[31m17.2 MB/s\u001b[0m eta \u001b[36m0:00:00\u001b[0m\n",
            "\u001b[?25hRequirement already satisfied: charset-normalizer>=2.0.0 in /usr/local/lib/python3.10/dist-packages (from pdfminer.six==20221105->pdfplumber) (2.0.12)\n",
            "Requirement already satisfied: cryptography>=36.0.0 in /usr/local/lib/python3.10/dist-packages (from pdfminer.six==20221105->pdfplumber) (40.0.2)\n",
            "Requirement already satisfied: cffi>=1.12 in /usr/local/lib/python3.10/dist-packages (from cryptography>=36.0.0->pdfminer.six==20221105->pdfplumber) (1.15.1)\n",
            "Requirement already satisfied: pycparser in /usr/local/lib/python3.10/dist-packages (from cffi>=1.12->cryptography>=36.0.0->pdfminer.six==20221105->pdfplumber) (2.21)\n",
            "Installing collected packages: Wand, Pillow, pdfminer.six, pdfplumber\n",
            "  Attempting uninstall: Pillow\n",
            "    Found existing installation: Pillow 8.4.0\n",
            "    Uninstalling Pillow-8.4.0:\n",
            "      Successfully uninstalled Pillow-8.4.0\n",
            "Successfully installed Pillow-9.5.0 Wand-0.6.11 pdfminer.six-20221105 pdfplumber-0.9.0\n"
          ]
        },
        {
          "output_type": "display_data",
          "data": {
            "application/vnd.colab-display-data+json": {
              "pip_warning": {
                "packages": [
                  "PIL"
                ]
              }
            }
          },
          "metadata": {}
        }
      ]
    },
    {
      "cell_type": "code",
      "source": [
        "import pdfplumber as pp"
      ],
      "metadata": {
        "id": "1PsKjiWeJWly"
      },
      "execution_count": 2,
      "outputs": []
    },
    {
      "cell_type": "code",
      "source": [
        "pdf_text = ''\n",
        "with pp.open('/12 Feb_AssQ.pdf') as pdf:\n",
        "  for page in pdf.pages:\n",
        "    pdf_text += page.extract_text()\n"
      ],
      "metadata": {
        "id": "NTxc0xI9DUhR"
      },
      "execution_count": 3,
      "outputs": []
    },
    {
      "cell_type": "code",
      "source": [
        "pdf_text"
      ],
      "metadata": {
        "colab": {
          "base_uri": "https://localhost:8080/",
          "height": 108
        },
        "id": "rA1UKUHjBxyH",
        "outputId": "0d16936b-d522-48d1-a4e3-219f7abd8caf"
      },
      "execution_count": 4,
      "outputs": [
        {
          "output_type": "execute_result",
          "data": {
            "text/plain": [
              "'Exception handling-1\\nAssignment QuestionsAssignment\\nQ1. What is an Exception in python? Write the difference between Exceptions and Syntax errors.\\n\\nQ2. What happens when an exception is not handled? Explain with an example.\\n\\nQ3. Which Python statements are used to catch and handle exceptions? Explain with an example.\\n\\nQ4. Explain with an example: \\ntry and else \\nfinall \\nraise\\nQ5. What are Custom Exceptions in python? Why do we need Custom Exceptions? Explain with an example.\\n\\nQ6. Create a custom exception class. Use this class to handle an exception.\\nNote: Create your assignment in Jupyter notebook and upload it to GitHub & share that GitHub repository\\nlink through your dashboard. Make sure the repository is public.\\nData Science Masters'"
            ],
            "application/vnd.google.colaboratory.intrinsic+json": {
              "type": "string"
            }
          },
          "metadata": {},
          "execution_count": 4
        }
      ]
    }
  ]
}