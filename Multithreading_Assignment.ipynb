{
  "nbformat": 4,
  "nbformat_minor": 0,
  "metadata": {
    "colab": {
      "provenance": []
    },
    "kernelspec": {
      "name": "python3",
      "display_name": "Python 3"
    },
    "language_info": {
      "name": "python"
    }
  },
  "cells": [
    {
      "cell_type": "markdown",
      "source": [
        "Q1. What is multithreading in python? Why is it used? Name the module used to handle threads in python."
      ],
      "metadata": {
        "id": "nMWdSVXoQ18O"
      }
    },
    {
      "cell_type": "markdown",
      "source": [
        "Ans:\n",
        "\n",
        "A program can have may units and each unit of execution/action is called a thread.\n",
        "\n",
        "Processor can have two, four or eight cores. Multithreading referes to the concurrent execution of multiple threads within a program. Threads can be distributed across multiple cores or run on a single core.\n",
        "\n",
        "Multithreading is used to optimize the memory and make the program efficient by concurrent executions of threads.\n",
        "\n",
        "threading module is use to handle threads in python.\n",
        "\n",
        "\n"
      ],
      "metadata": {
        "id": "CdZ0H7u7Q91G"
      }
    },
    {
      "cell_type": "markdown",
      "source": [
        "Q2. Why threading module used? Write the use of the following functions\n",
        "\n",
        "1) activeCount\n",
        "\n",
        "2) currentThread\n",
        "\n",
        "3) enumerate"
      ],
      "metadata": {
        "id": "Y3xnzBczcH60"
      }
    },
    {
      "cell_type": "markdown",
      "source": [
        "Ans:\n",
        "\n",
        "threading module is used to achieve concurrency in a python program with many execution units (thread). Concurrency refers to running threads in overlapping time.\n",
        "\n"
      ],
      "metadata": {
        "id": "brAzd6k5ci5d"
      }
    },
    {
      "cell_type": "markdown",
      "source": [
        "1) active_count: this function gives the count of Thread objects (instances) running"
      ],
      "metadata": {
        "id": "5coBNEGyfXDx"
      }
    },
    {
      "cell_type": "code",
      "execution_count": 1,
      "metadata": {
        "colab": {
          "base_uri": "https://localhost:8080/"
        },
        "id": "GZ4_rqNmQykE",
        "outputId": "b73b3d8c-6a60-4ea8-a3e1-84ed9ca71218"
      },
      "outputs": [
        {
          "output_type": "stream",
          "name": "stdout",
          "text": [
            "prog start 0 \n",
            "prog start 1 prog start 2 \n",
            "\n",
            "prog start 3 \n",
            "Active threads: 6\n"
          ]
        }
      ],
      "source": [
        "import threading\n",
        "\n",
        "# making and starting threads\n",
        "def test(id):\n",
        "    print(\"prog start %d \"% id)\n",
        "\n",
        "thread = [threading.Thread(target=test , args=(i,) )for i in range(4)]\n",
        "\n",
        "for t in thread :\n",
        "    t.start()\n",
        "\n",
        "# count of active threads\n",
        "count = threading.active_count()\n",
        "print(\"Active threads:\", count)\n"
      ]
    },
    {
      "cell_type": "markdown",
      "source": [
        "2) current_thread: this functions returns the latest thread under execution."
      ],
      "metadata": {
        "id": "o1ik6Al6gFtO"
      }
    },
    {
      "cell_type": "code",
      "source": [
        "import threading\n",
        "\n",
        "def wishes_calcuation():\n",
        "  print(\"Happy Holi\")\n",
        "  print(1+1)\n",
        "  print(\"Happy Durga Pooja\")\n",
        "\n",
        "# Create and start a thread\n",
        "thread = threading.Thread(target=wishes_calcuation, name=\"Latest_thread_under_execution\")\n",
        "\n",
        "thread.start()\n",
        "\n",
        "threading.current_thread()\n"
      ],
      "metadata": {
        "colab": {
          "base_uri": "https://localhost:8080/"
        },
        "id": "dQ_0JRNCe02S",
        "outputId": "9d82fb66-14e6-448e-912a-5fd6987639e5"
      },
      "execution_count": 2,
      "outputs": [
        {
          "output_type": "stream",
          "name": "stdout",
          "text": [
            "Happy Holi"
          ]
        },
        {
          "output_type": "execute_result",
          "data": {
            "text/plain": [
              "<_MainThread(MainThread, started 140573990475584)>"
            ]
          },
          "metadata": {},
          "execution_count": 2
        },
        {
          "output_type": "stream",
          "name": "stdout",
          "text": [
            "\n",
            "2\n",
            "Happy Durga Pooja\n"
          ]
        }
      ]
    },
    {
      "cell_type": "markdown",
      "source": [
        "3) enumerate:  It gives a list of all runing threads."
      ],
      "metadata": {
        "id": "_gjfAjSKhB8s"
      }
    },
    {
      "cell_type": "code",
      "source": [
        "import threading\n",
        "\n",
        "def wishes_calcuation():\n",
        "  print(\"Happy Holi\")\n",
        "  print(1+1)\n",
        "  print(\"Happy Durga Pooja\")\n",
        "\n",
        "\n",
        "def adipurush():\n",
        "  print(\"Adipurush is getting bad reviews\")\n",
        "\n",
        "\n",
        "thread1 = threading.Thread(target=wishes_calcuation, name = \"wishes_calcuation\")\n",
        "thread2 = threading.Thread(target=adipurush, name = 'adipurush')\n",
        "\n",
        "thread1.start()\n",
        "thread2.start()\n",
        "\n",
        "threads = threading.enumerate()\n",
        "\n",
        "for thread in threads:\n",
        "  print(thread.name)"
      ],
      "metadata": {
        "colab": {
          "base_uri": "https://localhost:8080/"
        },
        "id": "id-W2LFtguev",
        "outputId": "3a8cb32c-1aa0-468c-dc0f-8834a774d8e1"
      },
      "execution_count": null,
      "outputs": [
        {
          "output_type": "stream",
          "name": "stdout",
          "text": [
            "Happy HoliAdipurush is getting bad reviewsMainThread\n",
            "Thread-2 (_thread_main)\n",
            "Thread-3\n",
            "Thread-1\n",
            "_colab_inspector_thread\n",
            "wishes_calcuation\n",
            "adipurush\n",
            "\n",
            "2\n",
            "Happy Durga Pooja\n",
            "\n"
          ]
        }
      ]
    },
    {
      "cell_type": "markdown",
      "source": [
        "Main is the initial thread that is automatically created when the program starts running.\n",
        "\n",
        "_colab_inspector_thread is google colab related thread."
      ],
      "metadata": {
        "id": "CfNHcKDTjmJm"
      }
    },
    {
      "cell_type": "markdown",
      "source": [
        "Q3. Explain the following functions\n",
        "1. run()\n",
        "2. start()\n",
        "3. join()\n",
        "4. isAlive()"
      ],
      "metadata": {
        "id": "uTXB3m3ylpke"
      }
    },
    {
      "cell_type": "markdown",
      "source": [
        "Ans:\n",
        "\n",
        "1) run() function is used to show action/execution of thread."
      ],
      "metadata": {
        "id": "OlMXUjeIIIKI"
      }
    },
    {
      "cell_type": "code",
      "source": [
        "import threading\n",
        "\n",
        "def adipurush():\n",
        "  print(\"Adipurush is getting bad reviews\")\n",
        "\n",
        "thread = threading.Thread(target=adipurush)\n",
        "\n",
        "thread.run()"
      ],
      "metadata": {
        "id": "k4L2bcv_ikll",
        "colab": {
          "base_uri": "https://localhost:8080/"
        },
        "outputId": "1648867a-e21d-4c9a-ff8f-41ddc303ac17"
      },
      "execution_count": 3,
      "outputs": [
        {
          "output_type": "stream",
          "name": "stdout",
          "text": [
            "Adipurush is getting bad reviews\n"
          ]
        }
      ]
    },
    {
      "cell_type": "markdown",
      "source": [
        "2) start() function starts the thread.\n"
      ],
      "metadata": {
        "id": "YsSOSuULOmwE"
      }
    },
    {
      "cell_type": "code",
      "source": [
        "import threading\n",
        "import time\n",
        "\n",
        "def adipurush():\n",
        "  print(\"Adipurush is getting bad reviews\")\n",
        "\n",
        "thread = threading.Thread(target=adipurush)\n",
        "\n",
        "thread.start()"
      ],
      "metadata": {
        "colab": {
          "base_uri": "https://localhost:8080/"
        },
        "id": "3qt1sBOZObj1",
        "outputId": "ea4d75f7-6b5b-479c-a201-274009384843"
      },
      "execution_count": 4,
      "outputs": [
        {
          "output_type": "stream",
          "name": "stdout",
          "text": [
            "Adipurush is getting bad reviews\n"
          ]
        }
      ]
    },
    {
      "cell_type": "markdown",
      "source": [
        "3) join() function is user for waiting till a thread gets over before going to the next step in the program.\n",
        "\n",
        "In the example given below, join() function with respect to t1 thread waits till t1 is executed completely (takes 4 seaconds). During this 4 seconds, all other threads t1 and t2 get completed."
      ],
      "metadata": {
        "id": "cYkUKp9wQTRX"
      }
    },
    {
      "cell_type": "code",
      "source": [
        "import threading\n",
        "import time\n",
        "\n",
        "def func(seconds):\n",
        "  print(f\"Sleeping for\", seconds, \"seconds\")\n",
        "  time.sleep(seconds)\n",
        "  return seconds\n",
        "\n",
        "\n",
        "time_start = time.perf_counter()\n",
        "\n",
        "t1 = threading.Thread(target=func, args=[4])\n",
        "t2 = threading.Thread(target=func, args=[2])\n",
        "t3 = threading.Thread(target=func, args=[1])\n",
        "t1.start()\n",
        "t2.start()\n",
        "t3.start()\n",
        "\n",
        "t1.join()\n",
        "t2.join()\n",
        "t3.join()\n",
        "\n",
        "time_end = time.perf_counter()\n",
        "time_taken = time_end - time_start\n",
        "\n",
        "print(time_taken)"
      ],
      "metadata": {
        "colab": {
          "base_uri": "https://localhost:8080/"
        },
        "id": "zSmSM1QVO-AA",
        "outputId": "17fac1b5-2550-40b5-bc75-30c5e7095668"
      },
      "execution_count": 9,
      "outputs": [
        {
          "output_type": "stream",
          "name": "stdout",
          "text": [
            "Sleeping for 4 seconds\n",
            "Sleeping for 2 seconds\n",
            "Sleeping for 1 seconds\n",
            "4.0044694719999825\n"
          ]
        }
      ]
    },
    {
      "cell_type": "markdown",
      "source": [
        "4) isAlive() function helps uss to know whether a thread is currently executing or not."
      ],
      "metadata": {
        "id": "G8ApNRODTv0g"
      }
    },
    {
      "cell_type": "code",
      "source": [
        "import threading\n",
        "import time\n",
        "\n",
        "def func(seconds):\n",
        "  print(f\"Sleeping for {seconds} seconds\\n\")\n",
        "  time.sleep(seconds)\n",
        "\n",
        "t1 = threading.Thread(target=func, args=[4])\n",
        "\n",
        "t1.start()\n",
        "\n",
        "print(t1.is_alive())\n",
        "\n",
        "t1.join()\n",
        "\n",
        "print(t1.is_alive())"
      ],
      "metadata": {
        "colab": {
          "base_uri": "https://localhost:8080/"
        },
        "id": "XUU69T39UAop",
        "outputId": "84bd4f0c-3585-438d-e50e-734bc081b1fd"
      },
      "execution_count": 18,
      "outputs": [
        {
          "output_type": "stream",
          "name": "stdout",
          "text": [
            "Sleeping for 4 seconds\n",
            "True\n",
            "\n",
            "False\n"
          ]
        }
      ]
    },
    {
      "cell_type": "markdown",
      "source": [
        "Q4. Write a python program to create two threads. Thread one must print the list of squares and thread two must print the list of cubes"
      ],
      "metadata": {
        "id": "Qb_nIONSWAAP"
      }
    },
    {
      "cell_type": "code",
      "source": [
        "import threading\n",
        "\n",
        "def square(num):\n",
        "  print([i ** 2 for i in num])\n",
        "\n",
        "def cube(num):\n",
        "  print([i ** 3 for i in num])\n",
        "\n",
        "num = [1, 2, 3]\n",
        "\n",
        "thread1 = threading.Thread(target=square, args=(num, ))\n",
        "\n",
        "thread2 = threading.Thread(target=cube, args=(num, ))\n",
        "\n",
        "thread1.start()\n",
        "thread2.start()\n"
      ],
      "metadata": {
        "colab": {
          "base_uri": "https://localhost:8080/"
        },
        "id": "8lTn9PNfUxLX",
        "outputId": "5fd2e574-10a4-40dc-911b-983c638e382d"
      },
      "execution_count": 39,
      "outputs": [
        {
          "output_type": "stream",
          "name": "stdout",
          "text": [
            "[1, 4, 9][1, 8, 27]\n",
            "\n"
          ]
        }
      ]
    },
    {
      "cell_type": "markdown",
      "source": [
        "Q 5. State advantages and disadvantages of multithreading\n",
        "\n",
        "Ans:\n",
        "\n",
        "Key advantages of multithreading are -\n",
        "\n",
        "1) Efficient use of processor\n",
        "\n",
        "2) time saving as multiple threads of program do run in overlapping fashion\n",
        "\n",
        "\n",
        "Key disadvantages of multithreading are -\n",
        "\n",
        "1) Complex way to execute a program as it is module based and requires calling many functions\n",
        "\n",
        "2) Due to its complexity debugging is diffcult in big programs\n",
        "\n"
      ],
      "metadata": {
        "id": "GFRNUq46fC61"
      }
    },
    {
      "cell_type": "markdown",
      "source": [
        "Q:6. Explain deadlocks and race conditions.\n",
        "\n",
        "# Not understood thoroughly"
      ],
      "metadata": {
        "id": "rU4ZMmfZh_ZZ"
      }
    },
    {
      "cell_type": "code",
      "source": [],
      "metadata": {
        "id": "Z1ylQiudh-kz"
      },
      "execution_count": null,
      "outputs": []
    }
  ]
}