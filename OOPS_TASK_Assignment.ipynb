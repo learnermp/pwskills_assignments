{
  "nbformat": 4,
  "nbformat_minor": 0,
  "metadata": {
    "colab": {
      "provenance": []
    },
    "kernelspec": {
      "name": "python3",
      "display_name": "Python 3"
    },
    "language_info": {
      "name": "python"
    }
  },
  "cells": [
    {
      "cell_type": "markdown",
      "source": [
        "Q1, Create a vehicle class with an init method having instance variables as name_of_vehicle, max_speed\n",
        "and average_of_vehicle.\n",
        "\n"
      ],
      "metadata": {
        "id": "y9h0ayGcbkRA"
      }
    },
    {
      "cell_type": "markdown",
      "source": [
        "Ans:"
      ],
      "metadata": {
        "id": "2vwvhQG3cJLb"
      }
    },
    {
      "cell_type": "code",
      "execution_count": 2,
      "metadata": {
        "id": "8-NEkiY0bYXB"
      },
      "outputs": [],
      "source": [
        "class Vehicle:\n",
        "  def __init__(self, name_of_vehicle, max_speed, average_of_vehicle):\n",
        "    self.name_of_vehicle = name_of_vehicle\n",
        "    self.max_speed = max_speed\n",
        "    self.average_of_vehicle = average_of_vehicle"
      ]
    },
    {
      "cell_type": "markdown",
      "source": [
        "Q2. Create a child class car from the vehicle class created in Que 1, which will inherit the vehicle class.\n",
        "Create a method named seating_capacity which takes capacity as an argument and returns the name of\n",
        "the vehicle and its seating capacity."
      ],
      "metadata": {
        "id": "vOg92sSWcKqr"
      }
    },
    {
      "cell_type": "markdown",
      "source": [
        "Ans:"
      ],
      "metadata": {
        "id": "D_afhzayc9qQ"
      }
    },
    {
      "cell_type": "code",
      "source": [
        "class Car(Vehicle):\n",
        "  def seating_capacity(self, capacity):\n",
        "    return self.name_of_vehicle, capacity"
      ],
      "metadata": {
        "id": "_y3rVHJWcA7r"
      },
      "execution_count": 4,
      "outputs": []
    },
    {
      "cell_type": "markdown",
      "source": [
        "Illustration with example:"
      ],
      "metadata": {
        "id": "9LweEcagc2h_"
      }
    },
    {
      "cell_type": "code",
      "source": [
        "car = Car(\"BMW\", 400, 250)"
      ],
      "metadata": {
        "id": "IrlBB4A9cz9h"
      },
      "execution_count": 8,
      "outputs": []
    },
    {
      "cell_type": "code",
      "source": [
        "car.seating_capacity(5)"
      ],
      "metadata": {
        "colab": {
          "base_uri": "https://localhost:8080/"
        },
        "id": "_7hlOgkLdVoM",
        "outputId": "9651fdf3-c127-47ef-d193-b0c8de534a41"
      },
      "execution_count": 10,
      "outputs": [
        {
          "output_type": "execute_result",
          "data": {
            "text/plain": [
              "('BMW', 5)"
            ]
          },
          "metadata": {},
          "execution_count": 10
        }
      ]
    },
    {
      "cell_type": "markdown",
      "source": [
        "Q3. What is multiple inheritance? Write a python code to demonstrate multiple inheritance."
      ],
      "metadata": {
        "id": "M5Fw46cudyx3"
      }
    },
    {
      "cell_type": "markdown",
      "source": [
        "Ans: Multiple level inheritance involves two or more classes to be inherited by another class. Example is illustrated below:"
      ],
      "metadata": {
        "id": "jJvv9uRod-W_"
      }
    },
    {
      "cell_type": "code",
      "source": [
        "class Mumma:\n",
        "  def my_mummy_name(self):\n",
        "      return \"My mother name is Meera\""
      ],
      "metadata": {
        "id": "QqEnJwy-d9gn"
      },
      "execution_count": 13,
      "outputs": []
    },
    {
      "cell_type": "code",
      "source": [
        "class Papa:\n",
        "  def my_papa_name(self):\n",
        "    return \"My papa name is Mahesh\""
      ],
      "metadata": {
        "id": "z6jZnOjydfXU"
      },
      "execution_count": 14,
      "outputs": []
    },
    {
      "cell_type": "code",
      "source": [
        "class Son(Mumma, Papa):\n",
        "  pass\n"
      ],
      "metadata": {
        "id": "_TYWiPjxerxY"
      },
      "execution_count": 15,
      "outputs": []
    },
    {
      "cell_type": "code",
      "source": [
        "son = Son()"
      ],
      "metadata": {
        "id": "6njI9gyFe5Z5"
      },
      "execution_count": 16,
      "outputs": []
    },
    {
      "cell_type": "code",
      "source": [
        "son.my_mummy_name()"
      ],
      "metadata": {
        "colab": {
          "base_uri": "https://localhost:8080/",
          "height": 36
        },
        "id": "0FWHulF2e74x",
        "outputId": "ff1ee0f9-6ac2-4f74-9d4f-626a2e92504f"
      },
      "execution_count": 17,
      "outputs": [
        {
          "output_type": "execute_result",
          "data": {
            "text/plain": [
              "'My mother name is Meera'"
            ],
            "application/vnd.google.colaboratory.intrinsic+json": {
              "type": "string"
            }
          },
          "metadata": {},
          "execution_count": 17
        }
      ]
    },
    {
      "cell_type": "code",
      "source": [
        "son.my_papa_name()"
      ],
      "metadata": {
        "colab": {
          "base_uri": "https://localhost:8080/",
          "height": 36
        },
        "id": "9f5QmHjCe-4Y",
        "outputId": "745d8602-869a-4166-af6a-39344b383d09"
      },
      "execution_count": 19,
      "outputs": [
        {
          "output_type": "execute_result",
          "data": {
            "text/plain": [
              "'My papa name is Mahesh'"
            ],
            "application/vnd.google.colaboratory.intrinsic+json": {
              "type": "string"
            }
          },
          "metadata": {},
          "execution_count": 19
        }
      ]
    },
    {
      "cell_type": "markdown",
      "source": [
        "Q4. What are getter and setter in python? Create a class and create a getter and a setter method in this\n",
        "class."
      ],
      "metadata": {
        "id": "MXRKicIlfEEZ"
      }
    },
    {
      "cell_type": "markdown",
      "source": [
        "Ans: Concepts of getter and setter comes under the purview of encapsulation wherein we deliberatlety wants our instance variable to be untouched by any third party and allow others to get and change the instance variable(s) by seprate methods (getter and setter methods respectively)."
      ],
      "metadata": {
        "id": "mKpA22yMfLyR"
      }
    },
    {
      "cell_type": "code",
      "source": [
        "class Library:\n",
        "\n",
        "  def __init__(self, issued_book_name):\n",
        "    self.__issued_book_name = issued_book_name\n",
        "\n",
        "  def get_issued_book_name(self):\n",
        "    return self.__issued_book_name\n",
        "\n",
        "  def set_issued_book_name(self, new_book_issued):\n",
        "    self.__issued_book_name = new_book_issued"
      ],
      "metadata": {
        "id": "Kb-BowY9fBHy"
      },
      "execution_count": 21,
      "outputs": []
    },
    {
      "cell_type": "code",
      "source": [
        "lib = Library(\"The Prophet\")"
      ],
      "metadata": {
        "id": "c_APiFhNhQq5"
      },
      "execution_count": 22,
      "outputs": []
    },
    {
      "cell_type": "code",
      "source": [
        "lib.issued_book_name"
      ],
      "metadata": {
        "colab": {
          "base_uri": "https://localhost:8080/",
          "height": 171
        },
        "id": "XeY3OUQHhe0K",
        "outputId": "1f9fe279-a575-40ba-c324-aa48008f4eb0"
      },
      "execution_count": 23,
      "outputs": [
        {
          "output_type": "error",
          "ename": "AttributeError",
          "evalue": "ignored",
          "traceback": [
            "\u001b[0;31m---------------------------------------------------------------------------\u001b[0m",
            "\u001b[0;31mAttributeError\u001b[0m                            Traceback (most recent call last)",
            "\u001b[0;32m<ipython-input-23-e8a6cbdb1947>\u001b[0m in \u001b[0;36m<cell line: 1>\u001b[0;34m()\u001b[0m\n\u001b[0;32m----> 1\u001b[0;31m \u001b[0mlib\u001b[0m\u001b[0;34m.\u001b[0m\u001b[0missued_book_name\u001b[0m\u001b[0;34m\u001b[0m\u001b[0;34m\u001b[0m\u001b[0m\n\u001b[0m",
            "\u001b[0;31mAttributeError\u001b[0m: 'Library' object has no attribute 'issued_book_name'"
          ]
        }
      ]
    },
    {
      "cell_type": "code",
      "source": [
        "lib.__issued_book_name"
      ],
      "metadata": {
        "colab": {
          "base_uri": "https://localhost:8080/",
          "height": 171
        },
        "id": "B_BsfFLahmyT",
        "outputId": "8647e269-5d96-4efd-d892-0a059d65ddcc"
      },
      "execution_count": 24,
      "outputs": [
        {
          "output_type": "error",
          "ename": "AttributeError",
          "evalue": "ignored",
          "traceback": [
            "\u001b[0;31m---------------------------------------------------------------------------\u001b[0m",
            "\u001b[0;31mAttributeError\u001b[0m                            Traceback (most recent call last)",
            "\u001b[0;32m<ipython-input-24-6b9bcc88c369>\u001b[0m in \u001b[0;36m<cell line: 1>\u001b[0;34m()\u001b[0m\n\u001b[0;32m----> 1\u001b[0;31m \u001b[0mlib\u001b[0m\u001b[0;34m.\u001b[0m\u001b[0m__issued_book_name\u001b[0m\u001b[0;34m\u001b[0m\u001b[0;34m\u001b[0m\u001b[0m\n\u001b[0m",
            "\u001b[0;31mAttributeError\u001b[0m: 'Library' object has no attribute '__issued_book_name'"
          ]
        }
      ]
    },
    {
      "cell_type": "code",
      "source": [
        "lib.get_issued_book_name()"
      ],
      "metadata": {
        "colab": {
          "base_uri": "https://localhost:8080/",
          "height": 36
        },
        "id": "zDRpqx02hr7c",
        "outputId": "63bfacaf-e31d-4371-d97c-88cdae147ae0"
      },
      "execution_count": 25,
      "outputs": [
        {
          "output_type": "execute_result",
          "data": {
            "text/plain": [
              "'The Prophet'"
            ],
            "application/vnd.google.colaboratory.intrinsic+json": {
              "type": "string"
            }
          },
          "metadata": {},
          "execution_count": 25
        }
      ]
    },
    {
      "cell_type": "code",
      "source": [
        "lib.set_issued_book_name(\"Sidhhartha\")"
      ],
      "metadata": {
        "id": "n9dAUdQdhvI0"
      },
      "execution_count": 26,
      "outputs": []
    },
    {
      "cell_type": "code",
      "source": [
        "lib.get_issued_book_name()"
      ],
      "metadata": {
        "colab": {
          "base_uri": "https://localhost:8080/",
          "height": 36
        },
        "id": "ujdzqweeh2cV",
        "outputId": "1a3930ed-da24-402d-85f3-2b1f2fef73b1"
      },
      "execution_count": 27,
      "outputs": [
        {
          "output_type": "execute_result",
          "data": {
            "text/plain": [
              "'Sidhhartha'"
            ],
            "application/vnd.google.colaboratory.intrinsic+json": {
              "type": "string"
            }
          },
          "metadata": {},
          "execution_count": 27
        }
      ]
    },
    {
      "cell_type": "markdown",
      "source": [
        "Q5.What is method overriding in python? Write a python code to demonstrate method overriding."
      ],
      "metadata": {
        "id": "3pl6NW-wh_S1"
      }
    },
    {
      "cell_type": "markdown",
      "source": [
        "And: Method overriding demontrates the concept of polymorphism wherein the behaviour of a method changes as per the situation. For example, + (add) method in python can work differently depending on the parameters. In case of integers it does additions whereas in case of strings it concatenates. It is illustrated with three different examples for your reference:"
      ],
      "metadata": {
        "id": "uXKucIDviD-O"
      }
    },
    {
      "cell_type": "code",
      "source": [
        "def add(x, y):\n",
        "  return x + y "
      ],
      "metadata": {
        "id": "lvNN-5kfh5de"
      },
      "execution_count": 29,
      "outputs": []
    },
    {
      "cell_type": "code",
      "source": [
        "add(1, 2)"
      ],
      "metadata": {
        "colab": {
          "base_uri": "https://localhost:8080/"
        },
        "id": "UGSQ-Wl6k7FE",
        "outputId": "ac04ae51-c0ab-4182-9670-d7245ebc4782"
      },
      "execution_count": 30,
      "outputs": [
        {
          "output_type": "execute_result",
          "data": {
            "text/plain": [
              "3"
            ]
          },
          "metadata": {},
          "execution_count": 30
        }
      ]
    },
    {
      "cell_type": "code",
      "source": [
        "add([1, 2], [3, 4])"
      ],
      "metadata": {
        "colab": {
          "base_uri": "https://localhost:8080/"
        },
        "id": "ylvyH1XzlEWV",
        "outputId": "ea3a6a2b-846e-4788-9cc7-169818947db0"
      },
      "execution_count": 31,
      "outputs": [
        {
          "output_type": "execute_result",
          "data": {
            "text/plain": [
              "[1, 2, 3, 4]"
            ]
          },
          "metadata": {},
          "execution_count": 31
        }
      ]
    },
    {
      "cell_type": "code",
      "source": [
        "add(\"Mrityun\", \"jay\")"
      ],
      "metadata": {
        "colab": {
          "base_uri": "https://localhost:8080/",
          "height": 36
        },
        "id": "MqLRIJUQlGsN",
        "outputId": "d7d38dcb-c24b-44f2-a2f7-841aec1045ab"
      },
      "execution_count": 32,
      "outputs": [
        {
          "output_type": "execute_result",
          "data": {
            "text/plain": [
              "'Mrityunjay'"
            ],
            "application/vnd.google.colaboratory.intrinsic+json": {
              "type": "string"
            }
          },
          "metadata": {},
          "execution_count": 32
        }
      ]
    }
  ]
}