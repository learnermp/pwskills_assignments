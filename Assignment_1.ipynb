{
  "nbformat": 4,
  "nbformat_minor": 0,
  "metadata": {
    "colab": {
      "provenance": []
    },
    "kernelspec": {
      "name": "python3",
      "display_name": "Python 3"
    },
    "language_info": {
      "name": "python"
    }
  },
  "cells": [
    {
      "cell_type": "markdown",
      "source": [
        "Q1. Create one variable containing following type of data:\n",
        "\n",
        "(i) string\n",
        "\n",
        "(ii) list\n",
        "\n",
        "(iii) float\n",
        "\n",
        "(iv) tuple"
      ],
      "metadata": {
        "id": "lJohax7u079B"
      }
    },
    {
      "cell_type": "code",
      "source": [
        "# (i) string\n",
        "s = \"world\""
      ],
      "metadata": {
        "id": "lAwkz7Bk1An8"
      },
      "execution_count": 2,
      "outputs": []
    },
    {
      "cell_type": "code",
      "source": [
        "# (ii) list\n",
        "l = [1, 2, 3]"
      ],
      "metadata": {
        "id": "jhx0Xu-U1QIF"
      },
      "execution_count": 3,
      "outputs": []
    },
    {
      "cell_type": "code",
      "source": [
        "# (iii) float\n",
        "f = 3.2"
      ],
      "metadata": {
        "id": "pjeLTY9T1X52"
      },
      "execution_count": 4,
      "outputs": []
    },
    {
      "cell_type": "code",
      "source": [
        "# (iv) tuple\n",
        "t = (1, 2, 3)"
      ],
      "metadata": {
        "id": "nGTenOVB1dUO"
      },
      "execution_count": 6,
      "outputs": []
    },
    {
      "cell_type": "markdown",
      "source": [
        "Q2. Given are some following variables containing data:\n",
        "\n",
        "(i) var1 = ‘ ‘\n",
        "\n",
        "(ii) var2 = ‘[ DS , ML , Python]’\n",
        "\n",
        "(iii) var3 = [ ‘DS’ , ’ML’ , ‘Python’ ]\n",
        "\n",
        "(iv) var4 = 1.\n",
        "\n",
        "What will be the data type of the above given variable."
      ],
      "metadata": {
        "id": "j3a7otqH1rWa"
      }
    },
    {
      "cell_type": "code",
      "source": [
        "var1 = ' '\n",
        "type(var1)"
      ],
      "metadata": {
        "colab": {
          "base_uri": "https://localhost:8080/"
        },
        "id": "8xLxqSvW1qsU",
        "outputId": "233e9aa8-47bd-46c0-852f-6ec1dd50079c"
      },
      "execution_count": 8,
      "outputs": [
        {
          "output_type": "execute_result",
          "data": {
            "text/plain": [
              "str"
            ]
          },
          "metadata": {},
          "execution_count": 8
        }
      ]
    },
    {
      "cell_type": "code",
      "source": [
        "var2 = '[ DS , ML , Python]'\n",
        "type(var2)"
      ],
      "metadata": {
        "colab": {
          "base_uri": "https://localhost:8080/"
        },
        "id": "WotCts241ers",
        "outputId": "ff231a9e-83be-4f1a-f57a-309afe87667a"
      },
      "execution_count": 10,
      "outputs": [
        {
          "output_type": "execute_result",
          "data": {
            "text/plain": [
              "str"
            ]
          },
          "metadata": {},
          "execution_count": 10
        }
      ]
    },
    {
      "cell_type": "code",
      "source": [
        "var3 = [ 'DS' , 'ML' , 'Python']\n",
        "type(var3)"
      ],
      "metadata": {
        "colab": {
          "base_uri": "https://localhost:8080/"
        },
        "id": "2zCk8frG171L",
        "outputId": "c9f93f6d-5817-462c-dbe3-7db9139c5692"
      },
      "execution_count": 11,
      "outputs": [
        {
          "output_type": "execute_result",
          "data": {
            "text/plain": [
              "list"
            ]
          },
          "metadata": {},
          "execution_count": 11
        }
      ]
    },
    {
      "cell_type": "code",
      "source": [
        "var4 = 1\n",
        "type(var4)"
      ],
      "metadata": {
        "colab": {
          "base_uri": "https://localhost:8080/"
        },
        "id": "_Riqy3_s2JUs",
        "outputId": "bba8b68c-77b4-4cef-e67a-89f41d46c02c"
      },
      "execution_count": 12,
      "outputs": [
        {
          "output_type": "execute_result",
          "data": {
            "text/plain": [
              "int"
            ]
          },
          "metadata": {},
          "execution_count": 12
        }
      ]
    },
    {
      "cell_type": "markdown",
      "source": [
        "Q3. Explain the use of the following operators using an example:\n",
        "\n",
        "(i) /\n",
        "\n",
        "(ii) %\n",
        "\n",
        "(iii) //\n",
        "\n",
        "(iv) **"
      ],
      "metadata": {
        "id": "okARgsyY2ebD"
      }
    },
    {
      "cell_type": "code",
      "source": [
        "# (i) / : division operator\n",
        "4 / 2"
      ],
      "metadata": {
        "colab": {
          "base_uri": "https://localhost:8080/"
        },
        "id": "RtMuQFm_2TtL",
        "outputId": "20bf5e55-5dd0-48e8-d649-f2b18eea67ed"
      },
      "execution_count": 14,
      "outputs": [
        {
          "output_type": "execute_result",
          "data": {
            "text/plain": [
              "2.0"
            ]
          },
          "metadata": {},
          "execution_count": 14
        }
      ]
    },
    {
      "cell_type": "code",
      "source": [
        "# (ii) % : modulus operator that gives remainder\n",
        "4 % 2\n"
      ],
      "metadata": {
        "colab": {
          "base_uri": "https://localhost:8080/"
        },
        "id": "A3yg9ahc2lzH",
        "outputId": "3b11103a-b848-4b91-9460-3a7952009c40"
      },
      "execution_count": 16,
      "outputs": [
        {
          "output_type": "execute_result",
          "data": {
            "text/plain": [
              "0"
            ]
          },
          "metadata": {},
          "execution_count": 16
        }
      ]
    },
    {
      "cell_type": "code",
      "source": [
        "# (iii) // : floor operator gives quotient\n",
        "4 // 2"
      ],
      "metadata": {
        "colab": {
          "base_uri": "https://localhost:8080/"
        },
        "id": "Ub74z8vN2125",
        "outputId": "7e9ad6c6-cb9c-46cf-c62d-25310b87dd92"
      },
      "execution_count": 17,
      "outputs": [
        {
          "output_type": "execute_result",
          "data": {
            "text/plain": [
              "2"
            ]
          },
          "metadata": {},
          "execution_count": 17
        }
      ]
    },
    {
      "cell_type": "code",
      "source": [
        "# (iv) ** : power operator\n",
        "2**2"
      ],
      "metadata": {
        "colab": {
          "base_uri": "https://localhost:8080/"
        },
        "id": "kE-tlgz73Ezz",
        "outputId": "733c9ec3-2c2a-44a2-f071-29f4f8337c3e"
      },
      "execution_count": 18,
      "outputs": [
        {
          "output_type": "execute_result",
          "data": {
            "text/plain": [
              "4"
            ]
          },
          "metadata": {},
          "execution_count": 18
        }
      ]
    },
    {
      "cell_type": "markdown",
      "source": [
        "Q4. Create a list of length 10 of your choice containing multiple types of data. Using for loop print the\n",
        "element and its data type."
      ],
      "metadata": {
        "id": "hXrHB0td3VZU"
      }
    },
    {
      "cell_type": "code",
      "source": [
        "l = [1, 0.1 , True, 2+4j, 'books', None, (1, 2), [1, 2], {1, 2}, range(10)]\n",
        "\n",
        "for i in l:\n",
        "  print(f' The data type of element {i} is {type(i)}')"
      ],
      "metadata": {
        "colab": {
          "base_uri": "https://localhost:8080/"
        },
        "id": "rUAHEV8t3Tj1",
        "outputId": "919f9c90-29e2-4c9d-c3ed-2828b72f99bd"
      },
      "execution_count": 20,
      "outputs": [
        {
          "output_type": "stream",
          "name": "stdout",
          "text": [
            " The data type of element 1 is <class 'int'>\n",
            " The data type of element 0.1 is <class 'float'>\n",
            " The data type of element True is <class 'bool'>\n",
            " The data type of element (2+4j) is <class 'complex'>\n",
            " The data type of element books is <class 'str'>\n",
            " The data type of element None is <class 'NoneType'>\n",
            " The data type of element (1, 2) is <class 'tuple'>\n",
            " The data type of element [1, 2] is <class 'list'>\n",
            " The data type of element {1, 2} is <class 'set'>\n",
            " The data type of element range(0, 10) is <class 'range'>\n"
          ]
        }
      ]
    },
    {
      "cell_type": "markdown",
      "source": [
        "Q5. Using a while loop, verify if the number A is purely divisible by number B and if so then how many\n",
        "times it can be divisible."
      ],
      "metadata": {
        "id": "0eY4i4CC47p2"
      }
    },
    {
      "cell_type": "code",
      "source": [
        "A = int(input())\n",
        "B = int(input())\n",
        "\n",
        "if A % B == 0:\n",
        "  print(f\"The number A is {A//B} times divisible by number B\")\n"
      ],
      "metadata": {
        "colab": {
          "base_uri": "https://localhost:8080/"
        },
        "id": "0wx7iJnm4ukX",
        "outputId": "6b88b80d-dd3c-49eb-c9aa-47d4e7a4a880"
      },
      "execution_count": 21,
      "outputs": [
        {
          "output_type": "stream",
          "name": "stdout",
          "text": [
            "20\n",
            "5\n",
            "The number A is 4 times divisible by number B\n"
          ]
        }
      ]
    },
    {
      "cell_type": "markdown",
      "source": [
        "Q6. Create a list containing 25 int type data. Using for loop and if-else condition print if the element is\n",
        "divisible by 3 or not."
      ],
      "metadata": {
        "id": "-i_wc4D55s00"
      }
    },
    {
      "cell_type": "code",
      "source": [
        "l2 = [1, 2, 3, 6, 9, 12, 5, 10, 15, 4, 8, 16, 12, 18, 7, 14, 21, 24, 10, 20, 30, 11, 22, 33, 42 ]\n",
        "print(f' Length of list l2 is {len(l2)}')\n",
        "for i in l2:\n",
        "  if i % 3 == 0:\n",
        "    print(f'{i} is divisible by 3')\n",
        "  else:\n",
        "    print(f'{i} is not divisible by 3')"
      ],
      "metadata": {
        "colab": {
          "base_uri": "https://localhost:8080/"
        },
        "id": "1dxL5D7j5upq",
        "outputId": "0d236171-bdfc-453c-da2f-04a4d07f9c4f"
      },
      "execution_count": 27,
      "outputs": [
        {
          "output_type": "stream",
          "name": "stdout",
          "text": [
            " Length of list l2 is 25\n",
            "1 is not divisible by 3\n",
            "2 is not divisible by 3\n",
            "3 is divisible by 3\n",
            "6 is divisible by 3\n",
            "9 is divisible by 3\n",
            "12 is divisible by 3\n",
            "5 is not divisible by 3\n",
            "10 is not divisible by 3\n",
            "15 is divisible by 3\n",
            "4 is not divisible by 3\n",
            "8 is not divisible by 3\n",
            "16 is not divisible by 3\n",
            "12 is divisible by 3\n",
            "18 is divisible by 3\n",
            "7 is not divisible by 3\n",
            "14 is not divisible by 3\n",
            "21 is divisible by 3\n",
            "24 is divisible by 3\n",
            "10 is not divisible by 3\n",
            "20 is not divisible by 3\n",
            "30 is divisible by 3\n",
            "11 is not divisible by 3\n",
            "22 is not divisible by 3\n",
            "33 is divisible by 3\n",
            "42 is divisible by 3\n"
          ]
        }
      ]
    },
    {
      "cell_type": "markdown",
      "source": [
        "Q7. What do you understand about mutable and immutable data types? Give examples for both showing\n",
        "this property."
      ],
      "metadata": {
        "id": "Ld9mOG-C7gtq"
      }
    },
    {
      "cell_type": "code",
      "source": [
        "# Mutable Objects :  Mutable objects are those objects whose value at a particular index can be replaced with a new value e.g list\n",
        "l3 = ['a', 'b', 'c']\n",
        "print(l3)\n",
        "print(f'value at first index of list l3 is {l3[1]}')\n",
        "l3[1] = 'X'\n",
        "print(f\"Now value at first index of l3 is replaced with 'X' and the list l3 is:\")\n",
        "print(l3)"
      ],
      "metadata": {
        "colab": {
          "base_uri": "https://localhost:8080/"
        },
        "id": "4Muem-rO7iEH",
        "outputId": "85e2c172-6c00-4857-dec9-33a9ae17a96b"
      },
      "execution_count": 33,
      "outputs": [
        {
          "output_type": "stream",
          "name": "stdout",
          "text": [
            "['a', 'b', 'c']\n",
            "value at first index of list l3 is b\n",
            "Now value at first index of l3 is replaced with 'X' and the list l3 is:\n",
            "['a', 'X', 'c']\n"
          ]
        }
      ]
    },
    {
      "cell_type": "code",
      "source": [
        "# Immutable Objects : Immutable objects are those objects whose value at a particular index can not be replaced with a new value e.g string\n",
        "s2 = \"Earth\"\n",
        "print(s2)\n",
        "print(f'value at first index of list l3 is {s2[1]}')\n",
        "print(f\"Now when we try to change the value 'a' at first index of string s2 with 'X' then it will throw an error saying: 'str' object does not support item assignment\")\n",
        "s2[1] = 'X'\n"
      ],
      "metadata": {
        "colab": {
          "base_uri": "https://localhost:8080/",
          "height": 290
        },
        "id": "wQ3WgOZz8eg3",
        "outputId": "8475945b-9f71-43ee-baa2-5f3d475a78d2"
      },
      "execution_count": 35,
      "outputs": [
        {
          "output_type": "stream",
          "name": "stdout",
          "text": [
            "Earth\n",
            "value at first index of list l3 is a\n",
            "Now when we try to change the value 'a' at first index of string s2 with 'X' then it will throw an error saying: 'str' object does not support item assignment\n"
          ]
        },
        {
          "output_type": "error",
          "ename": "TypeError",
          "evalue": "ignored",
          "traceback": [
            "\u001b[0;31m---------------------------------------------------------------------------\u001b[0m",
            "\u001b[0;31mTypeError\u001b[0m                                 Traceback (most recent call last)",
            "\u001b[0;32m<ipython-input-35-1452c7a86de3>\u001b[0m in \u001b[0;36m<cell line: 6>\u001b[0;34m()\u001b[0m\n\u001b[1;32m      4\u001b[0m \u001b[0mprint\u001b[0m\u001b[0;34m(\u001b[0m\u001b[0;34mf'value at first index of list l3 is {s2[1]}'\u001b[0m\u001b[0;34m)\u001b[0m\u001b[0;34m\u001b[0m\u001b[0;34m\u001b[0m\u001b[0m\n\u001b[1;32m      5\u001b[0m \u001b[0mprint\u001b[0m\u001b[0;34m(\u001b[0m\u001b[0;34mf\"Now when we try to change the value 'a' at first index of string s2 with 'X' then it will throw an error saying: 'str' object does not support item assignment\"\u001b[0m\u001b[0;34m)\u001b[0m\u001b[0;34m\u001b[0m\u001b[0;34m\u001b[0m\u001b[0m\n\u001b[0;32m----> 6\u001b[0;31m \u001b[0ms2\u001b[0m\u001b[0;34m[\u001b[0m\u001b[0;36m1\u001b[0m\u001b[0;34m]\u001b[0m \u001b[0;34m=\u001b[0m \u001b[0;34m'X'\u001b[0m\u001b[0;34m\u001b[0m\u001b[0;34m\u001b[0m\u001b[0m\n\u001b[0m",
            "\u001b[0;31mTypeError\u001b[0m: 'str' object does not support item assignment"
          ]
        }
      ]
    },
    {
      "cell_type": "code",
      "source": [],
      "metadata": {
        "id": "hHk6owN29yY7"
      },
      "execution_count": null,
      "outputs": []
    }
  ]
}