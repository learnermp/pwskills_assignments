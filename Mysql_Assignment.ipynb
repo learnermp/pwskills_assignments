{
  "nbformat": 4,
  "nbformat_minor": 0,
  "metadata": {
    "colab": {
      "provenance": []
    },
    "kernelspec": {
      "name": "python3",
      "display_name": "Python 3"
    },
    "language_info": {
      "name": "python"
    }
  },
  "cells": [
    {
      "cell_type": "markdown",
      "source": [
        "Q1. What is a database? Differentiate between SQL and NoSQL databases.\n",
        "\n",
        "Ans:\n",
        "\n",
        "Database is a server where data is stored and accessed by user for its effective use and manipulations.\n",
        "\n",
        "SQL database is a database which store structured dataset in the form of row and columns with defined schema and can be accessed through structured Query Langauge (SQL).\n",
        "\n",
        "NoSQL database is a database which does not store dataset in a structured way (row and columns) and does not follow any fixed schema. There are different kind of NoSQL databases as per different datastructures and they require different query lnaguages. For example - MongoDB for JSON like data, Graphy for data which are connnected by internodes etc."
      ],
      "metadata": {
        "id": "J7-solsz-kTx"
      }
    },
    {
      "cell_type": "markdown",
      "source": [
        "Q2. What is DDL? Explain why CREATE, DROP, ALTER, and TRUNCATE are used with an example.\n",
        "\n",
        "Ans:\n",
        "\n",
        "DDL stands for Data Definition Language in SQL. Its key statements are - CREATE, DELETE, ALTER and TRUNCATE.\n",
        "\n",
        "CREATE: This command helps in creating a new table. An example:\n",
        "\n",
        "\n",
        "        CREATE TABLE students(\n",
        "          id INT PRIMARY KEY,\n",
        "          name VARCHAR(50) NOT NULL,\n",
        "          class INT NOT NULL,\n",
        "          position INT\n",
        "        )\n",
        "\n",
        "ALTER: This command helps in altering the structure of database. Operations like adding, dropping, renaming and changing datatype. An example:\n",
        "\n",
        "\n",
        "        ALTER TABLE students\n",
        "        RENAME COLUMN position to rank\n",
        "\n",
        "DROP: This commands helps in deleting both both the structure and records in the table. An example:\n",
        "\n",
        "\n",
        "        DROP TABLE students\n",
        "\n",
        "TRUNCATE: This commands helps in delting all the data of the table, therefore makes table empty.\n",
        "\n",
        "\n",
        "        TRUNCATE TABLE students\n"
      ],
      "metadata": {
        "id": "FlNwV9LSA08H"
      }
    },
    {
      "cell_type": "markdown",
      "source": [
        "Q3. What is DML? Explain INSERT, UPDATE, and DELETE with an example.\n",
        "\n",
        "Ans:\n",
        "\n",
        "DML stands for Data Manipulation Language. Commands under this umbrella help in inserting, updating and deleting data from table.\n",
        "\n",
        "INSERT:  This command helps in inserting data in a row. An example:\n",
        "\n",
        "      INSERT INTO students(name, class, rank)\n",
        "      VALUEs('Mrityunjay', 12, 10)\n",
        "\n",
        "UPDATE:  This command helps in updating existing data in a table.\n",
        "\n",
        "      UPDATE students\n",
        "      SET rank = 9\n",
        "      WHERE name = 'Mrityunjay'\n",
        "\n",
        "DELETE: This commands helps in deleting row(s) from a table.\n",
        "\n",
        "      DELETE FROM students\n",
        "      WHERE name = 'Mrityunjay'\n",
        "\n",
        "\n",
        "\n"
      ],
      "metadata": {
        "id": "jyRj5IfduyCl"
      }
    },
    {
      "cell_type": "markdown",
      "source": [
        "Q4. What is DQL? Explain SELECT with an example.\n",
        "\n",
        "Ans:\n",
        "\n",
        "DQL command (SELECT) helps in fetching the data from the database. SELECT commands all the data from table.\n",
        "\n",
        "\n",
        "SELECT * FROM students  "
      ],
      "metadata": {
        "id": "VGMF_3gb8hnL"
      }
    },
    {
      "cell_type": "markdown",
      "source": [
        "Q5. Explain Primary Key and Foreign Key.\n",
        "\n",
        "Ans:\n",
        "\n",
        "Primary Key: Primary key is a column in the table that sets each row of table unique, in other words, sets each row unique as there is no any duplicate and null value is associated with any promary key.\n",
        "\n",
        "For example, we can set id as a primary key for customer table as it helps indentifying each row (student) uniquely.\n",
        "\n",
        "    CREATE TABLE students(\n",
        "      id INT PRIMARY KEY,\n",
        "      name VARCHAR(50) NOT NULL,\n",
        "      class INT NOT NULL,\n",
        "      position INT\n",
        "    )\n",
        "\n",
        "\n",
        "Foreign Key: Foreign key column is defined in a tbale that references to the primary key of the other table.\n",
        "\n",
        "\n",
        "\n",
        "    CREATE TABLE school_library(\n",
        "    library_id INT REFERENCES students(id),\n",
        "    book_issued VARCHAR(100)\n",
        "    )\n"
      ],
      "metadata": {
        "id": "0oCenXMI9-JM"
      }
    },
    {
      "cell_type": "markdown",
      "source": [
        "Q6. Write a python code to connect MySQL to python. Explain the cursor() and execute() method.\n",
        "\n",
        "Ans: Python code to connect MySQL to python:\n",
        "\n",
        "    import mysql.connector\n",
        "\n",
        "    mydb = mysql.connector.connect(\n",
        "    host=\"localhost\",\n",
        "    user=\"abc\",\n",
        "    password=\"password\"\n",
        "    )\n",
        "\n",
        "cursor() : With cursor object through SQL queries we can interact with database and retreive results.\n",
        "\n",
        "  cursor = mydb.cursor()\n",
        "\n",
        "execute() : This is run through cursor object and helps in running SQL queries. After query the result can be accessed using the fetchall command.\n",
        "\n",
        "    \n",
        "    cursor.execute(\"SELECT * FROM students\")\n",
        "    \n",
        "    for i in cursor.fetchall() :\n",
        "    print(i)\n",
        "\n"
      ],
      "metadata": {
        "id": "vba3j8aW_bCO"
      }
    },
    {
      "cell_type": "markdown",
      "source": [
        "Q7. Give the order of execution of SQL clauses in an SQL query.\n",
        "\n",
        "\n",
        "    import mysql.connector\n",
        "\n",
        "    mydb = mysql.connector.connect(\n",
        "      host=\"localhost\",\n",
        "      user=\"abc\",\n",
        "      password=\"password\"\n",
        "    )\n",
        "\n",
        "    cursor = mydb.cursor()\n",
        "    \n",
        "    cursor.execute(\"select * from students\")\n",
        "    for i in cursor.fetchall() :\n",
        "        print(i)\n",
        "\n",
        "    mydb.close()"
      ],
      "metadata": {
        "id": "mZ9PFnePDFr8"
      }
    },
    {
      "cell_type": "code",
      "source": [],
      "metadata": {
        "id": "nmq9JAZaAeXl"
      },
      "execution_count": null,
      "outputs": []
    }
  ]
}